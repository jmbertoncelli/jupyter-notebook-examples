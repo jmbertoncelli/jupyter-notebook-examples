{
 "cells": [
  {
   "cell_type": "markdown",
   "metadata": {},
   "source": [
    "<img tyle=\"float: right;\"  src=\"http://minneanalytics.org/wp/wp-content/uploads/2018/04/BDT18_LP-02-02.jpg\" \\>"
   ]
  },
  {
   "cell_type": "markdown",
   "metadata": {},
   "source": [
    "# It is all about Data"
   ]
  },
  {
   "cell_type": "markdown",
   "metadata": {},
   "source": [
    "## Data Preparation, Exploration and Visualization using Open Data Science Tools"
   ]
  },
  {
   "cell_type": "markdown",
   "metadata": {},
   "source": [
    "### Create a sample csv file using jupyter magic command"
   ]
  },
  {
   "cell_type": "code",
   "execution_count": null,
   "metadata": {
    "ExecuteTime": {
     "end_time": "2017-09-02T13:02:34.827777Z",
     "start_time": "2017-09-02T13:02:34.820182Z"
    }
   },
   "outputs": [],
   "source": [
    "%%writefile /notebooks/Workshops/data/myfirst.csv\n",
    "credit_card_full,first_name,last_name,saving,ssn,checking,gender,age,zipcode,credit_card_number,credit_card_expire,job,date_of_birth,credit_card_provider,credit_card_security_code,address\n",
    "\"VISA 16 digit\n",
    "Elizabeth Smith\n",
    "4823815298403591 07/19\n",
    "CVC: 575\n",
    "\",Norma,Fisher,71970468.39,778-26-8050,5486.1,f,39,54263,3554535211664072,07/26,Teaching laboratory technician,09/02/1978,Discover,988,\"7345 Wagner Gateway Suite 629 Patrickside, IA 86414-6994\"\n",
    "\"American Express\n",
    "Barbara Myers\n",
    "349009112890414 01/21\n",
    "CID: 2631\n",
    "\",Michael,Hill,63499990.6,516-91-5342,6805.2,m,72,17886,341913789169069,06/23,Health and safety adviser,07/30/1945,American Express,8325,\"595 Donna Wells Suite 706 New Megan, HI 12738-1160\"\n",
    "\"JCB 15 digit\n",
    "Nicholas Hutchinson\n",
    "180044746042159 04/23\n",
    "CVC: 578\n",
    "\",Jennifer,Carroll,33440169.23,349-42-6508,15.19,f,66,65070,6588196079463272,05/23,\"Buyer, retail\",06/12/1951,VISA 13 digit,850,\"8250 Rogers Canyon East Stephanie, KY 39667\"\n",
    "\"VISA 16 digit\n",
    "Jennifer Morgan\n",
    "4019235242015041 09/21\n",
    "CVC: 409\n",
    "\",Douglas,Good,33340838.78,484-21-5871,88.15,m,37,39665,4934643789639606,02/23,\"Accountant, chartered public finance\",10/20/1980,VISA 16 digit,070,\"0247 Anderson Mount Suite 382 North Erinmouth, WA 90776-7963\"\n",
    "\"American Express\n",
    "Natalie Simpson\n",
    "373446262398807 11/19\n",
    "CID: 2785\n",
    "\",Jerry,Burns,40590688.67,492-15-9886,9829.14,m,63,67984,370080200831166,08/25,Materials engineer,11/26/1954,American Express,9595,\"3927 Michael Centers Suite 794 Davidbury, GA 92113\"\n",
    "\"JCB 16 digit\n",
    "Valerie Jenkins\n",
    "3530410661533749 03/27\n",
    "CVC: 646\n",
    "\",Peter,Mooney,67354380.15,033-42-4918,8633.71,m,42,79022,3566719798685710,10/21,Higher education careers adviser,10/19/1975,JCB 16 digit,747,\"55847 Brenda Summit Suite 601 Jonathanton, TX 34806-1280\"\n",
    "\"JCB 16 digit\n",
    "Michael Johnson\n",
    "3509808226910301 06/24\n",
    "CVC: 811\n",
    "\",Andrew,Villa,7853853.7,618-03-9192,9622.72,m,95,24651,3519342996191510,11/21,\"Engineer, chemical\",07/03/1922,JCB 16 digit,898,\"652 Lori Tunnel Suite 643 West Ashleeside, WA 07704\"\n",
    "\"American Express\n",
    "Raymond Saunders\n",
    "342491464206604 05/21\n",
    "CID: 7651\n",
    "\",Donna,Barnes,68820030.79,424-95-7965,2769.55,f,46,59714,180027291802556,06/25,Tax adviser,02/17/1972,Discover,1227,\"00457 Robert Points South Mikeshire, AZ 47322\"\n",
    "\"Maestro\n",
    "Kevin Mcgee\n",
    "501860480505 01/27\n",
    "CVV: 676\n",
    "\",Rebecca,Torres,31824017.65,319-47-4151,4767.69,f,98,13352,38867272143148,06/18,\"Journalist, newspaper\",08/04/1919,Maestro,447,\"91425 Burton Mountain Apt. 647 Carterbury, NC 63516\"\n",
    "\"VISA 16 digit\n",
    "Joseph Williams\n",
    "4061769394318735 12/22\n",
    "CVC: 300\n",
    "\",Jill,Clarke,49020206.7,860-95-9297,9340.58,f,34,46298,6011267382370905,02/22,Tree surgeon,06/27/1983,VISA 16 digit,708,\"2195 Paul Ford Apt. 106 New Cheyennechester, MT 83465\"\n",
    "\"JCB 15 digit\n",
    "Kristen Garcia\n",
    "180022767581610 10/25\n",
    "CVC: 367\n",
    "\",Brad,Garcia,23178787.11,267-44-6047,5361.26,m,92,39841,213182562621853,01/25,Catering manager,08/17/1925,JCB 15 digit,350,\"404 Calderon Bypass South Davidhaven, WA 45252\"\n",
    "\"JCB 16 digit\n",
    "Patrick Brown\n",
    "3579347626335715 08/18\n",
    "CVC: 600\n",
    "\",Kayla,Jones,70341885.82,433-32-8477,2591.6,f,30,26730,501894824314,09/20,Freight forwarder,04/05/1988,JCB 15 digit,973,\"562 Cabrera Shores Apt. 569 Lake Aliciaborough, MI 26649\"\n",
    "\"Mastercard\n",
    "Jessica Johnson\n",
    "2221021237424333 06/27\n",
    "CVV: 597\n",
    "\",Noah,Parks,25247288.8,538-62-4575,1500.6,m,62,97153,5264744070657260,02/24,Tree surgeon,10/21/1955,Mastercard,253,\"430 Misty Mission Eddieborough, TN 20817-6109\"\n",
    "\"Mastercard\n",
    "Sarah Fry\n",
    "5398771549116114 06/23\n",
    "CVV: 767\n",
    "\",Kylie,Rivera,14075874.4,291-78-6007,9874.0,f,86,41438,377955917787160,01/21,Maintenance engineer,04/06/1932,VISA 13 digit,539,Unit 9576 Box 3983 DPO AP 85936\n",
    "\"JCB 16 digit\n",
    "Paul Rowe\n",
    "3538048173045059 11/21\n",
    "CVC: 011\n",
    "\",Robert,Perez,25055805.76,696-61-0907,301.1,m,56,76487,3598939972654306,10/23,Oncologist,11/07/1961,JCB 16 digit,114,\"666 Jessica Forges Suite 299 South Julieview, MT 79199-6928\"\n",
    "\"Discover\n",
    "Lori Cooper\n",
    "6504348598130707 04/27\n",
    "CVC: 140\n",
    "\",Samantha,Williams,47648555.55,215-46-1594,3336.65,f,97,03552,676273800398,07/21,Furniture designer,05/31/1920,American Express,658,\"9350 Li Fall Apt. 722 Lutzland, VI 05607-8064\"\n",
    "\"Mastercard\n",
    "Greg Mccall\n",
    "5428694860221228 03/27\n",
    "CVV: 481\n",
    "\",Cheryl,Hughes,15686055.54,818-62-2871,368.37,f,42,14208,3538908507167632,01/24,\"Designer, fashion/clothing\",08/08/1975,Maestro,493,\"1660 Angela Trafficway North Brett, TX 82608-3940\"\n",
    "\"American Express\n",
    "Sandra Reeves\n",
    "371345925936767 12/25\n",
    "CID: 1915\n",
    "\",Kim,Jones,42104968.87,096-87-0488,7134.2,f,64,21133,4627316143078,05/21,Claims inspector/assessor,04/07/1954,Diners Club / Carte Blanche,755,\"444 Ralph Port Apt. 589 Watsontown, NY 20379\"\n",
    "\"VISA 13 digit\n",
    "Heidi Holland\n",
    "4691663708842 06/19\n",
    "CVC: 452\n",
    "\",Joseph,Fuentes,93553804.51,615-16-0050,5954.7,m,84,02606,4958089188853,04/23,Forensic psychologist,09/02/1933,VISA 13 digit,627,\"731 Bond Knolls Suite 835 New Rhonda, WY 38939-5998\"\n",
    "\"Diners Club / Carte Blanche\n",
    "Adrian Atkins\n",
    "30474695830027 10/26\n",
    "CVC: 324\n",
    "\",Jasmine,Mcclure,82299807.13,100-14-8118,1386.86,f,91,65758,4523372974839,11/27,Hospital doctor,10/22/1926,Discover,1745,\"053 Gibson Manor Apt. 846 East Amber, DC 81003-9522\"\n",
    "\"Discover\n",
    "Logan Macdonald\n",
    "6011995002317324 11/18\n",
    "CVC: 301\n",
    "\",Thomas,Reynolds,68392173.9,556-67-5022,4866.31,m,74,58461,6517108801293840,06/24,Dispensing optician,04/23/1944,Discover,376,\"984 Sean Hollow East Stephanieport, CO 35995\"\n",
    "\"JCB 15 digit\n",
    "Adam Sullivan\n",
    "180044242265999 08/23\n",
    "CVC: 025\n",
    "\",Ronald,Byrd,2391567.72,739-24-2485,4805.93,m,50,68334,180010887464130,02/25,\"Surveyor, building\",05/27/1968,JCB 15 digit,789,\"97266 Gray Parkway Suite 251 Port Davidhaven, MN 34353\"\n",
    "\"American Express\n",
    "Debbie Mcneil\n",
    "373615344684174 12/25\n",
    "CID: 9345\n",
    "\",Misty,White,86194938.75,121-44-6742,2239.68,f,63,08286,503885842099,05/27,Legal executive,01/16/1955,JCB 15 digit,643,\"PSC 7546, Box 6852 APO AA 98510\"\n",
    "\"Diners Club / Carte Blanche\n",
    "Suzanne Gill\n",
    "38140233381854 10/21\n",
    "CVC: 514\n",
    "\",Johnathan,Smith,43424914.66,893-48-3195,7291.2,m,30,55973,36339647055854,08/18,\"Engineer, technical sales\",11/04/1987,Diners Club / Carte Blanche,457,\"77290 Hunt Dale Apt. 528 West Williamborough, SD 01650\"\n",
    "\"VISA 16 digit\n",
    "Kyle Mccarthy\n",
    "4062179534454094 05/28\n",
    "CVC: 124\n",
    "\",Whitney,Steele,76958922.8,195-82-9836,2768.66,f,49,45135,4286359078615744,05/25,Industrial/product designer,08/29/1968,Maestro,238,USNS Lynch FPO AP 29398\n"
   ]
  },
  {
   "cell_type": "code",
   "execution_count": null,
   "metadata": {
    "ExecuteTime": {
     "end_time": "2017-09-02T13:02:34.970925Z",
     "start_time": "2017-09-02T13:02:34.841464Z"
    }
   },
   "outputs": [],
   "source": [
    "!dir /notebooks/Workshops/data/myfirst.csv"
   ]
  },
  {
   "cell_type": "markdown",
   "metadata": {},
   "source": [
    "## Import Python Data Analysis Library (pandas)  & numpy scientific computing with Python"
   ]
  },
  {
   "cell_type": "markdown",
   "metadata": {},
   "source": [
    "### import numpy and pandas"
   ]
  },
  {
   "cell_type": "code",
   "execution_count": null,
   "metadata": {
    "ExecuteTime": {
     "end_time": "2017-09-02T13:02:35.512590Z",
     "start_time": "2017-09-02T13:02:34.976859Z"
    }
   },
   "outputs": [],
   "source": [
    "import numpy as np\n",
    "import pandas as pd"
   ]
  },
  {
   "cell_type": "markdown",
   "metadata": {},
   "source": [
    "### Set some pandas global options"
   ]
  },
  {
   "cell_type": "code",
   "execution_count": null,
   "metadata": {
    "ExecuteTime": {
     "end_time": "2017-09-02T13:02:37.100957Z",
     "start_time": "2017-09-02T13:02:37.087164Z"
    }
   },
   "outputs": [],
   "source": [
    "pd.set_option('display.max_columns', 20)\n",
    "pd.set_option('display.max_rows', 20)\n",
    "pd.set_option('max_info_rows', 20)\n",
    "pd.set_option('expand_frame_repr', True)\n",
    "pd.set_option('mode.chained_assignment','warn')\n",
    "pd.set_option('precision', 2)\n",
    "pd.set_option('float_format', '{:6.2f}'.format)\n",
    "pd.set_option('display.notebook_repr_html', True)"
   ]
  },
  {
   "cell_type": "markdown",
   "metadata": {},
   "source": [
    "### Load a file inside a notebook cell using jupyter magic command"
   ]
  },
  {
   "cell_type": "code",
   "execution_count": null,
   "metadata": {
    "ExecuteTime": {
     "end_time": "2017-09-02T13:02:37.107800Z",
     "start_time": "2017-09-02T13:02:37.103594Z"
    }
   },
   "outputs": [],
   "source": [
    "# %load myfirst.csv"
   ]
  },
  {
   "cell_type": "code",
   "execution_count": null,
   "metadata": {
    "ExecuteTime": {
     "end_time": "2017-09-02T13:02:37.587302Z",
     "start_time": "2017-09-02T13:02:37.112202Z"
    }
   },
   "outputs": [],
   "source": [
    "%load_ext cython"
   ]
  },
  {
   "cell_type": "code",
   "execution_count": null,
   "metadata": {},
   "outputs": [],
   "source": [
    "%%cython\n",
    "def converter_string_replace_crlf(o):\n",
    "    return o.replace('\\n','')"
   ]
  },
  {
   "cell_type": "code",
   "execution_count": null,
   "metadata": {
    "ExecuteTime": {
     "end_time": "2017-09-02T13:02:38.248978Z",
     "start_time": "2017-09-02T13:02:37.963577Z"
    }
   },
   "outputs": [],
   "source": [
    "%%cython\n",
    "def converter_string_to_upper(o):\n",
    "    return o.upper()"
   ]
  },
  {
   "cell_type": "markdown",
   "metadata": {},
   "source": [
    "### read a csv fils using pandas"
   ]
  },
  {
   "cell_type": "code",
   "execution_count": null,
   "metadata": {
    "ExecuteTime": {
     "end_time": "2017-09-02T13:02:38.280319Z",
     "start_time": "2017-09-02T13:02:38.258227Z"
    }
   },
   "outputs": [],
   "source": [
    "mydf = pd.read_csv('/notebooks/Workshops/data/myfirst.csv',infer_datetime_format=True,parse_dates=['date_of_birth'],\n",
    "                   dtype={'ssn':np.str,'zipcode':np.str},\n",
    "                   converters={\\\n",
    "                                'first_name':converter_string_to_upper,\\\n",
    "                                'last_name':converter_string_to_upper,\\\n",
    "                                'credit_card_full':converter_string_replace_crlf,\\\n",
    "                                'address':converter_string_replace_crlf\\\n",
    "                              })"
   ]
  },
  {
   "cell_type": "code",
   "execution_count": null,
   "metadata": {},
   "outputs": [],
   "source": [
    "mydf = mydf[sorted(mydf.columns)]"
   ]
  },
  {
   "cell_type": "code",
   "execution_count": null,
   "metadata": {
    "ExecuteTime": {
     "end_time": "2017-09-02T13:02:38.308907Z",
     "start_time": "2017-09-02T13:02:38.286547Z"
    }
   },
   "outputs": [],
   "source": [
    "mydf.head(1)"
   ]
  },
  {
   "cell_type": "code",
   "execution_count": null,
   "metadata": {
    "ExecuteTime": {
     "end_time": "2017-09-02T13:02:38.331234Z",
     "start_time": "2017-09-02T13:02:38.312541Z"
    }
   },
   "outputs": [],
   "source": [
    "mydf.tail(1)"
   ]
  },
  {
   "cell_type": "code",
   "execution_count": null,
   "metadata": {
    "ExecuteTime": {
     "end_time": "2017-09-02T13:02:38.347822Z",
     "start_time": "2017-09-02T13:02:38.336051Z"
    },
    "scrolled": true
   },
   "outputs": [],
   "source": [
    "mydf.info()"
   ]
  },
  {
   "cell_type": "code",
   "execution_count": null,
   "metadata": {},
   "outputs": [],
   "source": [
    "mydf.credit_card_security_code"
   ]
  },
  {
   "cell_type": "code",
   "execution_count": null,
   "metadata": {
    "ExecuteTime": {
     "end_time": "2017-09-02T13:02:38.356677Z",
     "start_time": "2017-09-02T13:02:38.349937Z"
    }
   },
   "outputs": [],
   "source": [
    "list(mydf.columns)"
   ]
  },
  {
   "cell_type": "code",
   "execution_count": null,
   "metadata": {
    "ExecuteTime": {
     "end_time": "2017-09-02T13:02:38.385929Z",
     "start_time": "2017-09-02T13:02:38.360409Z"
    },
    "scrolled": true
   },
   "outputs": [],
   "source": [
    "mydf.describe(percentiles=[0.10,0.2,0.3,0.8])"
   ]
  },
  {
   "cell_type": "markdown",
   "metadata": {},
   "source": [
    "### Missing values"
   ]
  },
  {
   "cell_type": "code",
   "execution_count": null,
   "metadata": {
    "ExecuteTime": {
     "end_time": "2017-09-02T13:02:38.406822Z",
     "start_time": "2017-09-02T13:02:38.389262Z"
    }
   },
   "outputs": [],
   "source": [
    "mydf.head(10)"
   ]
  },
  {
   "cell_type": "code",
   "execution_count": null,
   "metadata": {
    "ExecuteTime": {
     "end_time": "2017-09-02T13:02:38.415386Z",
     "start_time": "2017-09-02T13:02:38.409068Z"
    }
   },
   "outputs": [],
   "source": [
    "mydf.fillna(value=0,inplace=True)"
   ]
  },
  {
   "cell_type": "markdown",
   "metadata": {},
   "source": [
    "### Dice, Slice, Filter,..."
   ]
  },
  {
   "cell_type": "code",
   "execution_count": null,
   "metadata": {
    "ExecuteTime": {
     "end_time": "2017-09-02T13:02:38.434013Z",
     "start_time": "2017-09-02T13:02:38.419146Z"
    }
   },
   "outputs": [],
   "source": [
    "mydf[1:4][['checking','saving']]"
   ]
  },
  {
   "cell_type": "code",
   "execution_count": null,
   "metadata": {
    "ExecuteTime": {
     "end_time": "2017-09-02T13:02:38.454194Z",
     "start_time": "2017-09-02T13:02:38.436746Z"
    }
   },
   "outputs": [],
   "source": [
    "mydf[~(mydf.checking > 100)]"
   ]
  },
  {
   "cell_type": "code",
   "execution_count": null,
   "metadata": {
    "ExecuteTime": {
     "end_time": "2017-09-02T13:02:38.466896Z",
     "start_time": "2017-09-02T13:02:38.457217Z"
    }
   },
   "outputs": [],
   "source": [
    "mydf[((mydf.checking >= 4) & (mydf.age > 50))]['checking'].sum()"
   ]
  },
  {
   "cell_type": "code",
   "execution_count": null,
   "metadata": {
    "ExecuteTime": {
     "end_time": "2017-09-02T13:02:38.486483Z",
     "start_time": "2017-09-02T13:02:38.469289Z"
    }
   },
   "outputs": [],
   "source": [
    "mydf.head()"
   ]
  },
  {
   "cell_type": "code",
   "execution_count": null,
   "metadata": {
    "ExecuteTime": {
     "end_time": "2017-09-02T13:02:38.495543Z",
     "start_time": "2017-09-02T13:02:38.489002Z"
    }
   },
   "outputs": [],
   "source": [
    "grouped = mydf.groupby(['job'])[['checking','saving']]"
   ]
  },
  {
   "cell_type": "code",
   "execution_count": null,
   "metadata": {
    "ExecuteTime": {
     "end_time": "2017-09-02T13:02:38.530016Z",
     "start_time": "2017-09-02T13:02:38.498730Z"
    }
   },
   "outputs": [],
   "source": [
    "grouped.agg([np.max,np.min,np.mean,np.sum,np.std,np.ceil])"
   ]
  },
  {
   "cell_type": "markdown",
   "metadata": {},
   "source": [
    "## Create a new column inside the Dataframe"
   ]
  },
  {
   "cell_type": "code",
   "execution_count": null,
   "metadata": {
    "ExecuteTime": {
     "end_time": "2017-09-02T13:02:38.539890Z",
     "start_time": "2017-09-02T13:02:38.533051Z"
    }
   },
   "outputs": [],
   "source": [
    "mydf['total_cache'] = mydf.checking * mydf.saving"
   ]
  },
  {
   "cell_type": "markdown",
   "metadata": {},
   "source": [
    "## Reorder columns (alpha sort)"
   ]
  },
  {
   "cell_type": "code",
   "execution_count": null,
   "metadata": {
    "ExecuteTime": {
     "end_time": "2017-09-02T13:02:38.561495Z",
     "start_time": "2017-09-02T13:02:38.543229Z"
    }
   },
   "outputs": [],
   "source": [
    "mydf[sorted(mydf.columns)].head()"
   ]
  },
  {
   "cell_type": "code",
   "execution_count": null,
   "metadata": {
    "ExecuteTime": {
     "end_time": "2017-09-02T13:02:38.572810Z",
     "start_time": "2017-09-02T13:02:38.565015Z"
    }
   },
   "outputs": [],
   "source": [
    "mydf['first_name_cap'] = mydf.first_name.str.lower().str.capitalize()\n",
    "mydf['last_name_cap'] = mydf.last_name.str.lower().str.capitalize()"
   ]
  },
  {
   "cell_type": "code",
   "execution_count": null,
   "metadata": {
    "ExecuteTime": {
     "end_time": "2017-09-02T13:02:38.596600Z",
     "start_time": "2017-09-02T13:02:38.576360Z"
    }
   },
   "outputs": [],
   "source": [
    "mydf.head(8)"
   ]
  }
 ],
 "metadata": {
  "anaconda-cloud": {},
  "hide_input": false,
  "kernelspec": {
   "display_name": "Python [conda env:snake27]",
   "language": "python",
   "name": "conda-env-snake27-py"
  },
  "language_info": {
   "codemirror_mode": {
    "name": "ipython",
    "version": 2
   },
   "file_extension": ".py",
   "mimetype": "text/x-python",
   "name": "python",
   "nbconvert_exporter": "python",
   "pygments_lexer": "ipython2",
   "version": "2.7.15"
  },
  "latex_envs": {
   "LaTeX_envs_menu_present": true,
   "autocomplete": true,
   "bibliofile": "biblio.bib",
   "cite_by": "apalike",
   "current_citInitial": 1,
   "eqLabelWithNumbers": true,
   "eqNumInitial": 0,
   "hotkeys": {
    "equation": "Ctrl-E",
    "itemize": "Ctrl-I"
   },
   "labels_anchors": false,
   "latex_user_defs": false,
   "report_style_numbering": false,
   "user_envs_cfg": false
  },
  "nav_menu": {},
  "nbTranslate": {
   "displayLangs": [
    "*"
   ],
   "hotkey": "alt-t",
   "langInMainMenu": true,
   "sourceLang": "en",
   "targetLang": "fr",
   "useGoogleTranslate": true
  },
  "notify_time": "5",
  "toc": {
   "colors": {
    "hover_highlight": "#DAA520",
    "navigate_num": "#000000",
    "navigate_text": "#333333",
    "running_highlight": "#FF0000",
    "selected_highlight": "#FFD700",
    "sidebar_border": "#EEEEEE",
    "wrapper_background": "#FFFFFF"
   },
   "moveMenuLeft": true,
   "nav_menu": {
    "height": "67px",
    "width": "252px"
   },
   "navigate_menu": true,
   "number_sections": true,
   "sideBar": true,
   "threshold": 4,
   "toc_cell": false,
   "toc_position": {
    "height": "752px",
    "left": "0px",
    "right": "1351.2px",
    "top": "58px",
    "width": "171px"
   },
   "toc_section_display": "block",
   "toc_window_display": true,
   "widenNotebook": false
  },
  "varInspector": {
   "cols": {
    "lenName": 16,
    "lenType": 16,
    "lenVar": 40
   },
   "kernels_config": {
    "python": {
     "delete_cmd_postfix": "",
     "delete_cmd_prefix": "del ",
     "library": "var_list.py",
     "varRefreshCmd": "print(var_dic_list())"
    },
    "r": {
     "delete_cmd_postfix": ") ",
     "delete_cmd_prefix": "rm(",
     "library": "var_list.r",
     "varRefreshCmd": "cat(var_dic_list()) "
    }
   },
   "types_to_exclude": [
    "module",
    "function",
    "builtin_function_or_method",
    "instance",
    "_Feature"
   ],
   "window_display": false
  }
 },
 "nbformat": 4,
 "nbformat_minor": 2
}
