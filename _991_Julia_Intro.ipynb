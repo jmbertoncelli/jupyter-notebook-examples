{
 "cells": [
  {
   "cell_type": "markdown",
   "metadata": {},
   "source": [
    "<img tyle=\"float: right;\"  src=\"http://minneanalytics.org/wp/wp-content/uploads/2018/04/BDT18_LP-02-02.jpg\" \\>"
   ]
  },
  {
   "cell_type": "markdown",
   "metadata": {},
   "source": [
    "# Julia code example\n",
    "- [link to Julia By Example](https://juliabyexample.helpmanual.io/)"
   ]
  },
  {
   "cell_type": "code",
   "execution_count": 1,
   "metadata": {},
   "outputs": [
    {
     "name": "stdout",
     "output_type": "stream",
     "text": [
      "hello world\n"
     ]
    }
   ],
   "source": [
    "println(\"hello world\")"
   ]
  },
  {
   "cell_type": "code",
   "execution_count": 2,
   "metadata": {},
   "outputs": [
    {
     "name": "stdout",
     "output_type": "stream",
     "text": [
      "volume = 113.097\n",
      "result 1: 3.0\n",
      "result 2: -2.0\n"
     ]
    }
   ],
   "source": [
    "# function to calculate the volume of a sphere\n",
    "function sphere_vol(r)\n",
    "    # julia allows Unicode names (in UTF-8 encoding)\n",
    "    # so either \"pi\" or the symbol π can be used\n",
    "    return 4/3*pi*r^3\n",
    "end\n",
    "\n",
    "# functions can also be defined more succinctly\n",
    "quadratic(a, sqr_term, b) = (-b + sqr_term) / 2a\n",
    "\n",
    "# calculates x for 0 = a*x^2+b*x+c, arguments types can be defined in function definitions\n",
    "function quadratic2(a::Float64, b::Float64, c::Float64)\n",
    "    # unlike other languages 2a is equivalent to 2*a\n",
    "    # a^2 is used instead of a**2 or pow(a,2)\n",
    "    sqr_term = sqrt(b^2-4a*c)\n",
    "    r1 = quadratic(a, sqr_term, b)\n",
    "    r2 = quadratic(a, -sqr_term, b)\n",
    "    # multiple values can be returned from a function using tuples\n",
    "    # if the return keyword is omitted, the last term is returned\n",
    "    r1, r2\n",
    "end\n",
    "\n",
    "vol = sphere_vol(3)\n",
    "# @printf allows number formatting but does not automatically append the \\n to statements, see below\n",
    "@printf \"volume = %0.3f\\n\" vol \n",
    "#> volume = 113.097\n",
    "\n",
    "quad1, quad2 = quadratic2(2.0, -2.0, -12.0)\n",
    "println(\"result 1: \", quad1)\n",
    "#> result 1: 3.0\n",
    "println(\"result 2: \", quad2)\n",
    "#> result 2: -2.0"
   ]
  },
  {
   "cell_type": "markdown",
   "metadata": {},
   "source": [
    "# Strings Basics"
   ]
  },
  {
   "cell_type": "code",
   "execution_count": 3,
   "metadata": {},
   "outputs": [
    {
     "name": "stdout",
     "output_type": "stream",
     "text": [
      "The quick brown fox jumps over the lazy dog α,β,γ\n",
      "this and that.\n",
      "a\n",
      "a ascii value = 97\n",
      "Int('α') == 945\n",
      "false\n",
      "THE QUICK BROWN FOX JUMPS OVER THE LAZY DOG Α,Β,Γ\n",
      "the quick brown fox jumps over the lazy dog α,β,γ\n",
      "'b'\n",
      "\"The quick \"\n",
      "\"dog α,β,γ\"\n",
      "wolcome to julia.\n",
      "1 + 2 = 3\n",
      "this and that\n",
      "this and that\n"
     ]
    }
   ],
   "source": [
    "# strings are defined with double quotes\n",
    "# like variables, strings can contain any unicode character\n",
    "s1 = \"The quick brown fox jumps over the lazy dog α,β,γ\"\n",
    "println(s1)\n",
    "#> The quick brown fox jumps over the lazy dog α,β,γ\n",
    "\n",
    "# println adds a new line to the end of output\n",
    "# print can be used if you dont want that:\n",
    "print(\"this\")\n",
    "#> this\n",
    "print(\" and\")\n",
    "#> and\n",
    "print(\" that.\\n\")\n",
    "#> that.\n",
    "\n",
    "# chars are defined with single quotes\n",
    "c1 = 'a'\n",
    "println(c1)\n",
    "#> a\n",
    "# the ascii value of a char can be found with Int():\n",
    "println(c1, \" ascii value = \", Int(c1))\n",
    "#> a ascii value = 97\n",
    "println(\"Int('α') == \", Int('α'))\n",
    "#> Int('α') == 945\n",
    "\n",
    "# so be aware that\n",
    "println(Int('1') == 1)\n",
    "#> false\n",
    "\n",
    "# strings can be converted to upper case or lower case:\n",
    "s1_caps = uppercase(s1)\n",
    "s1_lower = lowercase(s1)\n",
    "println(s1_caps, \"\\n\", s1_lower)\n",
    "#> THE QUICK BROWN FOX JUMPS OVER THE LAZY DOG Α,Β,Γ\n",
    "#> the quick brown fox jumps over the lazy dog α,β,γ\n",
    "\n",
    "# sub strings can be indexed like arrays:\n",
    "# (show prints the raw value)\n",
    "show(s1[11]); println()\n",
    "#> 'b'\n",
    "\n",
    "# or sub strings can be created:\n",
    "show(s1[1:10]); println()\n",
    "#> \"The quick \"\n",
    "\n",
    "# end is used for the end of the array or string\n",
    "show(s1[end-10:end]); println()\n",
    "#> \"dog α,β,γ\"\n",
    "\n",
    "# julia allows string Interpolation:\n",
    "a = \"wolcome\"\n",
    "b = \"julia\"\n",
    "println(\"$a to $b.\")\n",
    "#> wolcome to julia.\n",
    "\n",
    "# this can extend to evaluate statements:\n",
    "println(\"1 + 2 = $(1 + 2)\")\n",
    "#> 1 + 2 = 3\n",
    "\n",
    "# strings can also be concatenated using the * operator\n",
    "# using * instead of + isn't intuitive when you start with Julia,\n",
    "# however people think it makes more sense\n",
    "s2 = \"this\" * \" and\" * \" that\"\n",
    "println(s2)\n",
    "#> this and that\n",
    "\n",
    "# as well as the string function\n",
    "s3 = string(\"this\", \" and\", \" that\")\n",
    "println(s3)\n",
    "#> this and that"
   ]
  },
  {
   "cell_type": "markdown",
   "metadata": {},
   "source": [
    "# String: Converting and formatting"
   ]
  },
  {
   "cell_type": "code",
   "execution_count": 4,
   "metadata": {},
   "outputs": [
    {
     "name": "stdout",
     "output_type": "stream",
     "text": [
      "13.59\n",
      "45\n",
      "e = 2.72\n",
      "e_str1 == e_str2: true\n",
      "fix trailing precision: 3.142\n",
      "scientific form: 3.141593e+03\n",
      "a character: α\n",
      "a string: look I'm a string!\n",
      "right justify a string:                    width 50, text right justified!\n",
      "a pointer: 0x0000000005f5e100\n",
      "print a integer: 10000000000\n"
     ]
    }
   ],
   "source": [
    "# strings can be converted using float and int:\n",
    "e_str1 = \"2.718\"\n",
    "e = float(e_str1)\n",
    "println(5e)\n",
    "#> 13.5914\n",
    "num_15 = parse(Int, \"15\")\n",
    "println(3num_15)\n",
    "#> 45\n",
    "\n",
    "# numbers can be converted to strings and formatted using printf\n",
    "@printf \"e = %0.2f\\n\" e\n",
    "#> 2.718\n",
    "# or to create another string sprintf\n",
    "e_str2 = @sprintf(\"%0.3f\", e)\n",
    "\n",
    "# to show that the 2 strings are the same\n",
    "println(\"e_str1 == e_str2: $(e_str1 == e_str2)\")\n",
    "#> e_str1 == e_str2: true\n",
    "\n",
    "# available number format characters are f, e, g, c, s, p, d:\n",
    "# (pi is a predefined constant; however, since its type is \n",
    "# \"MathConst\" it has to be converted to a float to be formatted)\n",
    "@printf \"fix trailing precision: %0.3f\\n\" float(pi)\n",
    "#> fix trailing precision: 3.142\n",
    "@printf \"scientific form: %0.6e\\n\" 1000pi\n",
    "#> scientific form: 3.141593e+03\n",
    "# g is not implemented yet\n",
    "@printf \"a character: %c\\n\" 'α'\n",
    "#> a character: α\n",
    "@printf \"a string: %s\\n\" \"look I'm a string!\"\n",
    "#> a string: look I'm a string!\n",
    "@printf \"right justify a string: %50s\\n\" \"width 50, text right justified!\"\n",
    "#> right justify a string:                    width 50, text right justified!\n",
    "@printf \"a pointer: %p\\n\" 100000000\n",
    "#> a pointer: 0x0000000005f5e100\n",
    "@printf \"print a integer: %d\\n\" 1e10\n",
    "#> print an integer: 10000000000"
   ]
  },
  {
   "cell_type": "markdown",
   "metadata": {},
   "source": [
    "# String Manipulations"
   ]
  },
  {
   "cell_type": "code",
   "execution_count": 5,
   "metadata": {},
   "outputs": [
    {
     "name": "stdout",
     "output_type": "stream",
     "text": [
      "11\n",
      "11:15\n",
      "\"The quick red fox jumps over the lazy dog α,β,γ\"\n",
      "11:15\n",
      "\"The quick red fox jumps over the lazy dog α,β,γ\"\n",
      "RegexMatch(\"brown\")\n",
      "\"brown\"\n",
      "SubString{String}[\"quick\", \"brown\", \"jumps\", \"over\", \"lazy\"]\n",
      "\"quick\" \"brown\" \"jumps\" \"over\" \"lazy\" \n",
      "\"hello hello hello \"\n",
      "\"hello\"\n",
      "\"ello\"\n",
      "SubString{String}[\"hello\", \" there\", \"bob\"]\n",
      "SubString{String}[\"hello\", \"there,bob\"]\n",
      "SubString{String}[\"hello\", \"there\", \"bob\"]\n",
      "1, 2, 3, 4, 5, 6, 7, 8, 9, 10\n"
     ]
    }
   ],
   "source": [
    "s1 = \"The quick brown fox jumps over the lazy dog α,β,γ\"\n",
    "\n",
    "# search returns the first index of a char\n",
    "i = search(s1, 'b')\n",
    "println(i)\n",
    "#> 11\n",
    "# the second argument is equivalent to the second argument of split, see below\n",
    "\n",
    "# or a range if called with another string\n",
    "r = search(s1, \"brown\")\n",
    "println(r)\n",
    "#> 11:15\n",
    "\n",
    "\n",
    "# string replace is done thus:\n",
    "r = replace(s1, \"brown\", \"red\")\n",
    "show(r); println()\n",
    "#> \"The quick red fox jumps over the lazy dog\"\n",
    "\n",
    "# search and replace can also take a regular expressions by preceding the string with 'r'\n",
    "r = search(s1, r\"b[\\w]*n\")\n",
    "println(r)\n",
    "#> 11:15\n",
    "\n",
    "# again with a regular expression\n",
    "r = replace(s1, r\"b[\\w]*n\", \"red\")\n",
    "show(r); println()\n",
    "#> \"The quick red fox jumps over the lazy dog\"\n",
    "\n",
    "# there are also functions for regular expressions that return RegexMatch types\n",
    "# match scans left to right for the first match (specified starting index optional)\n",
    "r = match(r\"b[\\w]*n\", s1)\n",
    "println(r)\n",
    "#> RegexMatch(\"brown\")\n",
    "\n",
    "# RegexMatch types have a property match that holds the matched string\n",
    "show(r.match); println()\n",
    "#> \"brown\"\n",
    "\n",
    "# matchall returns a vector with RegexMatches for each match\n",
    "r = matchall(r\"[\\w]{4,}\", s1)\n",
    "println(r)\n",
    "#> SubString{UTF8String}[\"quick\",\"brown\",\"jumps\",\"over\",\"lazy\"]\n",
    "\n",
    "# eachmatch returns an iterator over all the matches\n",
    "r = eachmatch(r\"[\\w]{4,}\", s1)\n",
    "for i in r print(\"\\\"$(i.match)\\\" \") end\n",
    "println()\n",
    "#> \"quick\" \"brown\" \"jumps\" \"over\" \"lazy\" \n",
    "\n",
    "# a string can be repeated using the repeat function, \n",
    "# or more succinctly with the ^ syntax:\n",
    "r = \"hello \"^3\n",
    "show(r); println() #> \"hello hello hello \"\n",
    "\n",
    "# the strip function works the same as python:\n",
    "# e.g., with one argument it strips the outer whitespace\n",
    "r = strip(\"hello \")\n",
    "show(r); println() #> \"hello\"\n",
    "# or with a second argument of an array of chars it strips any of them;\n",
    "r = strip(\"hello \", ['h', ' '])\n",
    "show(r); println() #> \"ello\"\n",
    "# (note the array is of chars and not strings)\n",
    "\n",
    "# similarly split works in basically the same way as python:\n",
    "r = split(\"hello, there,bob\", ',')\n",
    "show(r); println() #> [\"hello\",\" there\",\"bob\"]\n",
    "r = split(\"hello, there,bob\", \", \")\n",
    "show(r); println() #> [\"hello\",\"there,bob\"]\n",
    "r = split(\"hello, there,bob\", [',', ' '], limit=0, keep=false)\n",
    "show(r); println() #> [\"hello\",\"there\",\"bob\"]\n",
    "# (the last two arguements are limit and include_empty, see docs)\n",
    "\n",
    "# the opposite of split: join is simply\n",
    "r = join(collect(1:10), \", \")\n",
    "println(r) #> 1, 2, 3, 4, 5, 6, 7, 8, 9, 10"
   ]
  }
 ],
 "metadata": {
  "kernelspec": {
   "display_name": "Julia 0.6.2",
   "language": "julia",
   "name": "julia-0.6"
  },
  "language_info": {
   "file_extension": ".jl",
   "mimetype": "application/julia",
   "name": "julia",
   "version": "0.6.2"
  }
 },
 "nbformat": 4,
 "nbformat_minor": 2
}
