{
 "cells": [
  {
   "cell_type": "markdown",
   "metadata": {},
   "source": [
    "<img tyle=\"float: right;\"  src=\"http://minneanalytics.org/wp/wp-content/uploads/2018/04/BDT18_LP-02-02.jpg\" \\>"
   ]
  },
  {
   "cell_type": "markdown",
   "metadata": {},
   "source": [
    "# Generate Fake Data using [faker](https://github.com/joke2k/faker)"
   ]
  },
  {
   "cell_type": "markdown",
   "metadata": {},
   "source": [
    "### Faker is a Python package that generates fake data for you. Whether you need to bootstrap your database, create good-looking XML documents, fill-in your persistence to stress test it, or anonymize data taken from a production service, Faker is for you."
   ]
  },
  {
   "cell_type": "code",
   "execution_count": 1,
   "metadata": {
    "ExecuteTime": {
     "end_time": "2018-03-04T11:46:32.615160Z",
     "start_time": "2018-03-04T11:46:32.609466Z"
    }
   },
   "outputs": [],
   "source": [
    "from __future__ import print_function\n",
    "import sys"
   ]
  },
  {
   "cell_type": "code",
   "execution_count": 2,
   "metadata": {
    "ExecuteTime": {
     "end_time": "2018-03-04T11:46:33.627416Z",
     "start_time": "2018-03-04T11:46:33.621834Z"
    },
    "init_cell": false
   },
   "outputs": [],
   "source": [
    "import warnings\n",
    "warnings.simplefilter(\"ignore\")\n",
    "warnings.filterwarnings(\"ignore\", \"DeprecationWarning\") \n",
    "warnings.filterwarnings(\"ignore\", \"SAWarning\") "
   ]
  },
  {
   "cell_type": "code",
   "execution_count": 3,
   "metadata": {
    "ExecuteTime": {
     "end_time": "2018-03-04T11:46:34.604182Z",
     "start_time": "2018-03-04T11:46:34.437456Z"
    },
    "init_cell": false
   },
   "outputs": [],
   "source": [
    "import pandas as pd\n",
    "import numpy as np\n",
    "import collections\n",
    "from collections import *\n",
    "import random"
   ]
  },
  {
   "cell_type": "code",
   "execution_count": 4,
   "metadata": {
    "ExecuteTime": {
     "end_time": "2018-03-04T11:46:37.113439Z",
     "start_time": "2018-03-04T11:46:37.106285Z"
    },
    "scrolled": false
   },
   "outputs": [],
   "source": [
    "import time\n",
    "import datetime\n",
    "from datetime import *\n",
    "from dateutil.relativedelta import relativedelta\n",
    "import unicodedata"
   ]
  },
  {
   "cell_type": "code",
   "execution_count": 5,
   "metadata": {
    "ExecuteTime": {
     "end_time": "2018-03-04T11:46:38.202697Z",
     "start_time": "2018-03-04T11:46:38.117477Z"
    }
   },
   "outputs": [],
   "source": [
    "from faker import Faker\n",
    "from faker_web import WebProvider"
   ]
  },
  {
   "cell_type": "code",
   "execution_count": 6,
   "metadata": {
    "ExecuteTime": {
     "end_time": "2018-03-04T11:46:39.359579Z",
     "start_time": "2018-03-04T11:46:39.287685Z"
    }
   },
   "outputs": [],
   "source": [
    "import tqdm \n",
    "from tqdm import *"
   ]
  },
  {
   "cell_type": "code",
   "execution_count": 7,
   "metadata": {
    "ExecuteTime": {
     "end_time": "2018-03-04T11:46:36.217322Z",
     "start_time": "2018-03-04T11:46:36.205338Z"
    },
    "init_cell": false
   },
   "outputs": [],
   "source": [
    "pd.set_option('display.max_columns', 512)\n",
    "pd.set_option('display.max_rows', 512)\n",
    "pd.set_option('display.width', 1024)\n",
    "pd.set_option('display.max_info_rows', 512)\n",
    "pd.set_option('display.expand_frame_repr', False)\n",
    "pd.set_option('mode.chained_assignment','warn')\n",
    "pd.set_option('precision', 2)\n",
    "pd.set_option('float_format', '{:6.2f}'.format)\n",
    "pd.set_option('display.notebook_repr_html', True)"
   ]
  },
  {
   "cell_type": "markdown",
   "metadata": {},
   "source": [
    "## Instantiate a faker object generator"
   ]
  },
  {
   "cell_type": "code",
   "execution_count": 8,
   "metadata": {
    "ExecuteTime": {
     "end_time": "2018-03-04T11:46:38.202697Z",
     "start_time": "2018-03-04T11:46:38.117477Z"
    }
   },
   "outputs": [],
   "source": [
    "fake = Faker()\n",
    "fake.add_provider(WebProvider)\n",
    "fake.seed(0)"
   ]
  },
  {
   "cell_type": "markdown",
   "metadata": {},
   "source": [
    "## Direct a shell command to the linux operating system"
   ]
  },
  {
   "cell_type": "code",
   "execution_count": 9,
   "metadata": {},
   "outputs": [
    {
     "name": "stdout",
     "output_type": "stream",
     "text": [
      "mkdir: cannot create directory ‘/media/sf_mnlytics/data’: File exists\n"
     ]
    }
   ],
   "source": [
    "!mkdir /media/sf_mnlytics/data"
   ]
  },
  {
   "cell_type": "markdown",
   "metadata": {},
   "source": [
    "## Function to cleanup unwanted chars from a string"
   ]
  },
  {
   "cell_type": "code",
   "execution_count": 10,
   "metadata": {},
   "outputs": [],
   "source": [
    "def sanitize_string(s):\n",
    "    if (s == None):\n",
    "        return \"?\"\n",
    "    if len(s) == 0:\n",
    "        return \"?\"\n",
    "    s0 = \"\".join([ch if unicodedata.category(unicode(ch))[0]!=\"C\" else ' ' for ch in s])\n",
    "    if len(s0) == 0:\n",
    "        return \"?\"\n",
    "    return s0.strip()"
   ]
  },
  {
   "cell_type": "code",
   "execution_count": 11,
   "metadata": {},
   "outputs": [
    {
     "data": {
      "text/plain": [
       "'I have a cr-lf  I want it removed'"
      ]
     },
     "execution_count": 11,
     "metadata": {},
     "output_type": "execute_result"
    }
   ],
   "source": [
    "sanitize_string(\"I have a cr-lf\\n I want it removed\")"
   ]
  },
  {
   "cell_type": "markdown",
   "metadata": {},
   "source": [
    "## Function to generate fake customer data"
   ]
  },
  {
   "cell_type": "code",
   "execution_count": 12,
   "metadata": {
    "ExecuteTime": {
     "end_time": "2018-03-04T11:48:28.968682Z",
     "start_time": "2018-03-04T11:47:09.216471Z"
    },
    "scrolled": true
   },
   "outputs": [],
   "source": [
    "def data_gen(count,seed):\n",
    "    fakeDataDico = []\n",
    "    fakeDataTuple = []\n",
    "    fakeColumns = OrderedDict()\n",
    "    \n",
    "    fake.seed(seed)    \n",
    "    ctypes = list(('maestro','mastercard','visa16','visa13','amex','discover','diners','jcb15','jcb16'))\n",
    "    tday = datetime.now().date()\n",
    "    for _ in tnrange(count,desc=\"Data generator\",leave=True):\n",
    "        dob = fake.date_between_dates(date_start=datetime(1917, 1, 1),date_end=datetime(1990, 1, 12))\n",
    "        ctype = random.choice(ctypes)\n",
    "        if random.randint(0,1) == 0:\n",
    "            fakeDataDico.append(OrderedDict({\n",
    "                'first_name': fake.first_name_male(),\n",
    "                'last_name': fake.last_name_male(),\n",
    "                'gender': 'm',\n",
    "                'date_of_birth': dob.strftime(\"%m/%d/%Y\"),\n",
    "                'age': relativedelta(tday, dob).years,\n",
    "                'address': fake.address(),\n",
    "                'ssn': fake.ssn(),\n",
    "                'checking': float(fake.pydecimal(left_digits=4, right_digits=2, positive=True)),\n",
    "                'saving': float(fake.pydecimal(left_digits=8, right_digits=2, positive=True)),        \n",
    "                'credit_card_full': fake.credit_card_full(card_type=ctype),        \n",
    "                'credit_card_expire': fake.credit_card_expire(start=\"now\", end=\"+10y\", date_format=\"%m/%y\"),\n",
    "                'credit_card_provider': fake.credit_card_provider(card_type=ctype),\n",
    "                'credit_card_number': fake.credit_card_number(card_type=ctype),\n",
    "                'credit_card_security_code': fake.credit_card_security_code(card_type=ctype),        \n",
    "                'job': fake.job(),        \n",
    "                'zipcode': fake.zipcode(),\n",
    "                'lat': float(fake.latitude()),\n",
    "                'long': float(fake.longitude())\n",
    "            }))\n",
    "        else:\n",
    "            fakeDataDico.append(OrderedDict({\n",
    "                'first_name': fake.first_name_female(),\n",
    "                'last_name': fake.last_name_female(),\n",
    "                'gender': 'f',\n",
    "                'date_of_birth': dob.strftime(\"%m/%d/%Y\"),\n",
    "                'age': relativedelta(tday, dob).years,\n",
    "                'address': fake.address().encode('ascii', 'ignore'),\n",
    "                'ssn': fake.ssn(),\n",
    "                'checking': float(fake.pydecimal(left_digits=4, right_digits=2, positive=True)),\n",
    "                'saving': float(fake.pydecimal(left_digits=8, right_digits=2, positive=True)),        \n",
    "                'credit_card_full': fake.credit_card_full().encode('ascii', 'ignore'),        \n",
    "                'credit_card_expire': fake.credit_card_expire(start=\"now\", end=\"+10y\", date_format=\"%m/%y\"),\n",
    "                'credit_card_provider': fake.credit_card_provider(),\n",
    "                'credit_card_number': fake.credit_card_number(),\n",
    "                'credit_card_security_code': fake.credit_card_security_code(),        \n",
    "                'job': fake.job(),        \n",
    "                'zipcode': fake.zipcode(),\n",
    "                'lat': float(fake.latitude()),\n",
    "                'long': float(fake.longitude())\n",
    "            }))\n",
    "\n",
    "    df_0 = pd.DataFrame(data=fakeDataDico)\n",
    "    df = df_0[sorted(df_0.columns)].copy(deep=True)\n",
    "    \n",
    "    # -------------------------------------------------------------------------------\n",
    "    # each column of object type(string) will be sanitized for unwanted chars \n",
    "    # -------------------------------------------------------------------------------\n",
    "    for c in df.columns:\n",
    "        if (df[c].dtype == \"object\"):\n",
    "            print(\"sanitazing:{0} - {1}\".format(c,df[c].dtype))\n",
    "            df[c] = df[c].apply(sanitize_string)\n",
    "    # -------------------------------------------------------------------------------\n",
    "    # -------------------------------------------------------------------------------\n",
    "    # -------------------------------------------------------------------------------\n",
    "\n",
    "    df.to_csv(\"/media/sf_mnlytics/data/fake_customers_{0:>02}.csv.gz\".format(seed),sep='\\t',index=False,index_label=None,compression =\"gzip\")\n",
    "    return df"
   ]
  },
  {
   "cell_type": "markdown",
   "metadata": {},
   "source": [
    "# Loop to generate fake customers files"
   ]
  },
  {
   "cell_type": "markdown",
   "metadata": {},
   "source": [
    "- set how many files will be created\n",
    "- set how many row per file will be generated"
   ]
  },
  {
   "cell_type": "code",
   "execution_count": 13,
   "metadata": {},
   "outputs": [],
   "source": [
    "max_file = 64\n",
    "max_row = 8192"
   ]
  },
  {
   "cell_type": "code",
   "execution_count": 14,
   "metadata": {},
   "outputs": [
    {
     "data": {
      "application/vnd.jupyter.widget-view+json": {
       "model_id": "5edb93f2ecff43dabb4ced10f2498d93",
       "version_major": 2,
       "version_minor": 0
      },
      "text/plain": [
       "HBox(children=(IntProgress(value=0, description=u'File generator', max=64), HTML(value=u'')))"
      ]
     },
     "metadata": {},
     "output_type": "display_data"
    },
    {
     "data": {
      "application/vnd.jupyter.widget-view+json": {
       "model_id": "87ca6f865344491d9fdb857c8783379d",
       "version_major": 2,
       "version_minor": 0
      },
      "text/plain": [
       "HBox(children=(IntProgress(value=0, description=u'Data generator', max=8192), HTML(value=u'')))"
      ]
     },
     "metadata": {},
     "output_type": "display_data"
    },
    {
     "name": "stdout",
     "output_type": "stream",
     "text": [
      "sanitazing:address - object\n",
      "sanitazing:credit_card_expire - object\n",
      "sanitazing:credit_card_full - object\n",
      "sanitazing:credit_card_number - object\n",
      "sanitazing:credit_card_provider - object\n",
      "sanitazing:credit_card_security_code - object\n",
      "sanitazing:date_of_birth - object\n",
      "sanitazing:first_name - object\n",
      "sanitazing:gender - object\n",
      "sanitazing:job - object\n",
      "sanitazing:last_name - object\n",
      "sanitazing:ssn - object\n",
      "sanitazing:zipcode - object\n"
     ]
    },
    {
     "data": {
      "application/vnd.jupyter.widget-view+json": {
       "model_id": "06a3c8f9d8dc4449b6172ee5403197b2",
       "version_major": 2,
       "version_minor": 0
      },
      "text/plain": [
       "HBox(children=(IntProgress(value=0, description=u'Data generator', max=8192), HTML(value=u'')))"
      ]
     },
     "metadata": {},
     "output_type": "display_data"
    },
    {
     "name": "stdout",
     "output_type": "stream",
     "text": [
      "sanitazing:address - object\n",
      "sanitazing:credit_card_expire - object\n",
      "sanitazing:credit_card_full - object\n",
      "sanitazing:credit_card_number - object\n",
      "sanitazing:credit_card_provider - object\n",
      "sanitazing:credit_card_security_code - object\n",
      "sanitazing:date_of_birth - object\n",
      "sanitazing:first_name - object\n",
      "sanitazing:gender - object\n",
      "sanitazing:job - object\n",
      "sanitazing:last_name - object\n",
      "sanitazing:ssn - object\n",
      "sanitazing:zipcode - object\n"
     ]
    },
    {
     "data": {
      "application/vnd.jupyter.widget-view+json": {
       "model_id": "bbd5595820264b91a7f9de35c025fd56",
       "version_major": 2,
       "version_minor": 0
      },
      "text/plain": [
       "HBox(children=(IntProgress(value=0, description=u'Data generator', max=8192), HTML(value=u'')))"
      ]
     },
     "metadata": {},
     "output_type": "display_data"
    },
    {
     "name": "stdout",
     "output_type": "stream",
     "text": [
      "sanitazing:address - object\n",
      "sanitazing:credit_card_expire - object\n",
      "sanitazing:credit_card_full - object\n",
      "sanitazing:credit_card_number - object\n",
      "sanitazing:credit_card_provider - object\n",
      "sanitazing:credit_card_security_code - object\n",
      "sanitazing:date_of_birth - object\n",
      "sanitazing:first_name - object\n",
      "sanitazing:gender - object\n",
      "sanitazing:job - object\n",
      "sanitazing:last_name - object\n",
      "sanitazing:ssn - object\n",
      "sanitazing:zipcode - object\n"
     ]
    },
    {
     "data": {
      "application/vnd.jupyter.widget-view+json": {
       "model_id": "4995106b719b41a1af6a1aacc61f735d",
       "version_major": 2,
       "version_minor": 0
      },
      "text/plain": [
       "HBox(children=(IntProgress(value=0, description=u'Data generator', max=8192), HTML(value=u'')))"
      ]
     },
     "metadata": {},
     "output_type": "display_data"
    },
    {
     "name": "stdout",
     "output_type": "stream",
     "text": [
      "sanitazing:address - object\n",
      "sanitazing:credit_card_expire - object\n",
      "sanitazing:credit_card_full - object\n",
      "sanitazing:credit_card_number - object\n",
      "sanitazing:credit_card_provider - object\n",
      "sanitazing:credit_card_security_code - object\n",
      "sanitazing:date_of_birth - object\n",
      "sanitazing:first_name - object\n",
      "sanitazing:gender - object\n",
      "sanitazing:job - object\n",
      "sanitazing:last_name - object\n",
      "sanitazing:ssn - object\n",
      "sanitazing:zipcode - object\n"
     ]
    },
    {
     "data": {
      "application/vnd.jupyter.widget-view+json": {
       "model_id": "411486d0561e42e19bd15501833543e4",
       "version_major": 2,
       "version_minor": 0
      },
      "text/plain": [
       "HBox(children=(IntProgress(value=0, description=u'Data generator', max=8192), HTML(value=u'')))"
      ]
     },
     "metadata": {},
     "output_type": "display_data"
    },
    {
     "name": "stdout",
     "output_type": "stream",
     "text": [
      "sanitazing:address - object\n",
      "sanitazing:credit_card_expire - object\n",
      "sanitazing:credit_card_full - object\n",
      "sanitazing:credit_card_number - object\n",
      "sanitazing:credit_card_provider - object\n",
      "sanitazing:credit_card_security_code - object\n",
      "sanitazing:date_of_birth - object\n",
      "sanitazing:first_name - object\n",
      "sanitazing:gender - object\n",
      "sanitazing:job - object\n",
      "sanitazing:last_name - object\n",
      "sanitazing:ssn - object\n",
      "sanitazing:zipcode - object\n"
     ]
    },
    {
     "data": {
      "application/vnd.jupyter.widget-view+json": {
       "model_id": "f35f8726ebd44eeab482d7012b5ad891",
       "version_major": 2,
       "version_minor": 0
      },
      "text/plain": [
       "HBox(children=(IntProgress(value=0, description=u'Data generator', max=8192), HTML(value=u'')))"
      ]
     },
     "metadata": {},
     "output_type": "display_data"
    },
    {
     "name": "stdout",
     "output_type": "stream",
     "text": [
      "sanitazing:address - object\n",
      "sanitazing:credit_card_expire - object\n",
      "sanitazing:credit_card_full - object\n",
      "sanitazing:credit_card_number - object\n",
      "sanitazing:credit_card_provider - object\n",
      "sanitazing:credit_card_security_code - object\n",
      "sanitazing:date_of_birth - object\n",
      "sanitazing:first_name - object\n",
      "sanitazing:gender - object\n",
      "sanitazing:job - object\n",
      "sanitazing:last_name - object\n",
      "sanitazing:ssn - object\n",
      "sanitazing:zipcode - object\n"
     ]
    },
    {
     "data": {
      "application/vnd.jupyter.widget-view+json": {
       "model_id": "a953c92aae114f3a8b47a1dd0006bac3",
       "version_major": 2,
       "version_minor": 0
      },
      "text/plain": [
       "HBox(children=(IntProgress(value=0, description=u'Data generator', max=8192), HTML(value=u'')))"
      ]
     },
     "metadata": {},
     "output_type": "display_data"
    },
    {
     "name": "stdout",
     "output_type": "stream",
     "text": [
      "sanitazing:address - object\n",
      "sanitazing:credit_card_expire - object\n",
      "sanitazing:credit_card_full - object\n",
      "sanitazing:credit_card_number - object\n",
      "sanitazing:credit_card_provider - object\n",
      "sanitazing:credit_card_security_code - object\n",
      "sanitazing:date_of_birth - object\n",
      "sanitazing:first_name - object\n",
      "sanitazing:gender - object\n",
      "sanitazing:job - object\n",
      "sanitazing:last_name - object\n",
      "sanitazing:ssn - object\n",
      "sanitazing:zipcode - object\n"
     ]
    },
    {
     "data": {
      "application/vnd.jupyter.widget-view+json": {
       "model_id": "e3a4152f7f114940a7f1fad2f9330a93",
       "version_major": 2,
       "version_minor": 0
      },
      "text/plain": [
       "HBox(children=(IntProgress(value=0, description=u'Data generator', max=8192), HTML(value=u'')))"
      ]
     },
     "metadata": {},
     "output_type": "display_data"
    },
    {
     "name": "stdout",
     "output_type": "stream",
     "text": [
      "sanitazing:address - object\n",
      "sanitazing:credit_card_expire - object\n",
      "sanitazing:credit_card_full - object\n",
      "sanitazing:credit_card_number - object\n",
      "sanitazing:credit_card_provider - object\n",
      "sanitazing:credit_card_security_code - object\n",
      "sanitazing:date_of_birth - object\n",
      "sanitazing:first_name - object\n",
      "sanitazing:gender - object\n",
      "sanitazing:job - object\n",
      "sanitazing:last_name - object\n",
      "sanitazing:ssn - object\n",
      "sanitazing:zipcode - object\n"
     ]
    },
    {
     "data": {
      "application/vnd.jupyter.widget-view+json": {
       "model_id": "1a5887465cba4797b511be628290353d",
       "version_major": 2,
       "version_minor": 0
      },
      "text/plain": [
       "HBox(children=(IntProgress(value=0, description=u'Data generator', max=8192), HTML(value=u'')))"
      ]
     },
     "metadata": {},
     "output_type": "display_data"
    },
    {
     "name": "stdout",
     "output_type": "stream",
     "text": [
      "sanitazing:address - object\n",
      "sanitazing:credit_card_expire - object\n",
      "sanitazing:credit_card_full - object\n",
      "sanitazing:credit_card_number - object\n",
      "sanitazing:credit_card_provider - object\n",
      "sanitazing:credit_card_security_code - object\n",
      "sanitazing:date_of_birth - object\n",
      "sanitazing:first_name - object\n",
      "sanitazing:gender - object\n",
      "sanitazing:job - object\n",
      "sanitazing:last_name - object\n",
      "sanitazing:ssn - object\n",
      "sanitazing:zipcode - object\n"
     ]
    },
    {
     "data": {
      "application/vnd.jupyter.widget-view+json": {
       "model_id": "c39ffc5761884defbef475b7a3ae7535",
       "version_major": 2,
       "version_minor": 0
      },
      "text/plain": [
       "HBox(children=(IntProgress(value=0, description=u'Data generator', max=8192), HTML(value=u'')))"
      ]
     },
     "metadata": {},
     "output_type": "display_data"
    },
    {
     "name": "stdout",
     "output_type": "stream",
     "text": [
      "sanitazing:address - object\n",
      "sanitazing:credit_card_expire - object\n",
      "sanitazing:credit_card_full - object\n",
      "sanitazing:credit_card_number - object\n",
      "sanitazing:credit_card_provider - object\n",
      "sanitazing:credit_card_security_code - object\n",
      "sanitazing:date_of_birth - object\n",
      "sanitazing:first_name - object\n",
      "sanitazing:gender - object\n",
      "sanitazing:job - object\n",
      "sanitazing:last_name - object\n",
      "sanitazing:ssn - object\n",
      "sanitazing:zipcode - object\n"
     ]
    },
    {
     "data": {
      "application/vnd.jupyter.widget-view+json": {
       "model_id": "a0665bed54144041a57423d703e45b5d",
       "version_major": 2,
       "version_minor": 0
      },
      "text/plain": [
       "HBox(children=(IntProgress(value=0, description=u'Data generator', max=8192), HTML(value=u'')))"
      ]
     },
     "metadata": {},
     "output_type": "display_data"
    },
    {
     "name": "stdout",
     "output_type": "stream",
     "text": [
      "sanitazing:address - object\n",
      "sanitazing:credit_card_expire - object\n",
      "sanitazing:credit_card_full - object\n",
      "sanitazing:credit_card_number - object\n",
      "sanitazing:credit_card_provider - object\n",
      "sanitazing:credit_card_security_code - object\n",
      "sanitazing:date_of_birth - object\n",
      "sanitazing:first_name - object\n",
      "sanitazing:gender - object\n",
      "sanitazing:job - object\n",
      "sanitazing:last_name - object\n",
      "sanitazing:ssn - object\n",
      "sanitazing:zipcode - object\n"
     ]
    },
    {
     "data": {
      "application/vnd.jupyter.widget-view+json": {
       "model_id": "f7bbd4f7ff0b456ba8aa991b8b440b11",
       "version_major": 2,
       "version_minor": 0
      },
      "text/plain": [
       "HBox(children=(IntProgress(value=0, description=u'Data generator', max=8192), HTML(value=u'')))"
      ]
     },
     "metadata": {},
     "output_type": "display_data"
    },
    {
     "name": "stdout",
     "output_type": "stream",
     "text": [
      "sanitazing:address - object\n",
      "sanitazing:credit_card_expire - object\n",
      "sanitazing:credit_card_full - object\n",
      "sanitazing:credit_card_number - object\n",
      "sanitazing:credit_card_provider - object\n",
      "sanitazing:credit_card_security_code - object\n",
      "sanitazing:date_of_birth - object\n",
      "sanitazing:first_name - object\n",
      "sanitazing:gender - object\n",
      "sanitazing:job - object\n",
      "sanitazing:last_name - object\n",
      "sanitazing:ssn - object\n",
      "sanitazing:zipcode - object\n"
     ]
    },
    {
     "data": {
      "application/vnd.jupyter.widget-view+json": {
       "model_id": "cae2ceed3f9044cfb11f8958c2788d41",
       "version_major": 2,
       "version_minor": 0
      },
      "text/plain": [
       "HBox(children=(IntProgress(value=0, description=u'Data generator', max=8192), HTML(value=u'')))"
      ]
     },
     "metadata": {},
     "output_type": "display_data"
    },
    {
     "name": "stdout",
     "output_type": "stream",
     "text": [
      "sanitazing:address - object\n",
      "sanitazing:credit_card_expire - object\n",
      "sanitazing:credit_card_full - object\n",
      "sanitazing:credit_card_number - object\n",
      "sanitazing:credit_card_provider - object\n",
      "sanitazing:credit_card_security_code - object\n",
      "sanitazing:date_of_birth - object\n",
      "sanitazing:first_name - object\n",
      "sanitazing:gender - object\n",
      "sanitazing:job - object\n",
      "sanitazing:last_name - object\n",
      "sanitazing:ssn - object\n",
      "sanitazing:zipcode - object\n"
     ]
    },
    {
     "data": {
      "application/vnd.jupyter.widget-view+json": {
       "model_id": "1a540f48fea3437fa5c772accc79f13c",
       "version_major": 2,
       "version_minor": 0
      },
      "text/plain": [
       "HBox(children=(IntProgress(value=0, description=u'Data generator', max=8192), HTML(value=u'')))"
      ]
     },
     "metadata": {},
     "output_type": "display_data"
    },
    {
     "name": "stdout",
     "output_type": "stream",
     "text": [
      "sanitazing:address - object\n",
      "sanitazing:credit_card_expire - object\n",
      "sanitazing:credit_card_full - object\n",
      "sanitazing:credit_card_number - object\n",
      "sanitazing:credit_card_provider - object\n",
      "sanitazing:credit_card_security_code - object\n",
      "sanitazing:date_of_birth - object\n",
      "sanitazing:first_name - object\n",
      "sanitazing:gender - object\n",
      "sanitazing:job - object\n",
      "sanitazing:last_name - object\n",
      "sanitazing:ssn - object\n",
      "sanitazing:zipcode - object\n"
     ]
    },
    {
     "data": {
      "application/vnd.jupyter.widget-view+json": {
       "model_id": "0e9a9f7ae27d4d3e8f6a5e43c60db197",
       "version_major": 2,
       "version_minor": 0
      },
      "text/plain": [
       "HBox(children=(IntProgress(value=0, description=u'Data generator', max=8192), HTML(value=u'')))"
      ]
     },
     "metadata": {},
     "output_type": "display_data"
    },
    {
     "name": "stdout",
     "output_type": "stream",
     "text": [
      "sanitazing:address - object\n",
      "sanitazing:credit_card_expire - object\n",
      "sanitazing:credit_card_full - object\n",
      "sanitazing:credit_card_number - object\n",
      "sanitazing:credit_card_provider - object\n",
      "sanitazing:credit_card_security_code - object\n",
      "sanitazing:date_of_birth - object\n",
      "sanitazing:first_name - object\n",
      "sanitazing:gender - object\n",
      "sanitazing:job - object\n",
      "sanitazing:last_name - object\n",
      "sanitazing:ssn - object\n",
      "sanitazing:zipcode - object\n"
     ]
    },
    {
     "data": {
      "application/vnd.jupyter.widget-view+json": {
       "model_id": "5ece9252b6c54c11a4dd4f73ce4e3a85",
       "version_major": 2,
       "version_minor": 0
      },
      "text/plain": [
       "HBox(children=(IntProgress(value=0, description=u'Data generator', max=8192), HTML(value=u'')))"
      ]
     },
     "metadata": {},
     "output_type": "display_data"
    },
    {
     "name": "stdout",
     "output_type": "stream",
     "text": [
      "sanitazing:address - object\n",
      "sanitazing:credit_card_expire - object\n",
      "sanitazing:credit_card_full - object\n",
      "sanitazing:credit_card_number - object\n",
      "sanitazing:credit_card_provider - object\n",
      "sanitazing:credit_card_security_code - object\n",
      "sanitazing:date_of_birth - object\n",
      "sanitazing:first_name - object\n",
      "sanitazing:gender - object\n",
      "sanitazing:job - object\n",
      "sanitazing:last_name - object\n",
      "sanitazing:ssn - object\n",
      "sanitazing:zipcode - object\n"
     ]
    },
    {
     "data": {
      "application/vnd.jupyter.widget-view+json": {
       "model_id": "98a42772ba224d0a8f63fcecf69024bf",
       "version_major": 2,
       "version_minor": 0
      },
      "text/plain": [
       "HBox(children=(IntProgress(value=0, description=u'Data generator', max=8192), HTML(value=u'')))"
      ]
     },
     "metadata": {},
     "output_type": "display_data"
    },
    {
     "name": "stdout",
     "output_type": "stream",
     "text": [
      "sanitazing:address - object\n",
      "sanitazing:credit_card_expire - object\n",
      "sanitazing:credit_card_full - object\n",
      "sanitazing:credit_card_number - object\n",
      "sanitazing:credit_card_provider - object\n",
      "sanitazing:credit_card_security_code - object\n",
      "sanitazing:date_of_birth - object\n",
      "sanitazing:first_name - object\n",
      "sanitazing:gender - object\n",
      "sanitazing:job - object\n",
      "sanitazing:last_name - object\n",
      "sanitazing:ssn - object\n",
      "sanitazing:zipcode - object\n"
     ]
    },
    {
     "data": {
      "application/vnd.jupyter.widget-view+json": {
       "model_id": "3de84d28636b41bfb593dd96fa7993f2",
       "version_major": 2,
       "version_minor": 0
      },
      "text/plain": [
       "HBox(children=(IntProgress(value=0, description=u'Data generator', max=8192), HTML(value=u'')))"
      ]
     },
     "metadata": {},
     "output_type": "display_data"
    },
    {
     "name": "stdout",
     "output_type": "stream",
     "text": [
      "sanitazing:address - object\n",
      "sanitazing:credit_card_expire - object\n",
      "sanitazing:credit_card_full - object\n",
      "sanitazing:credit_card_number - object\n",
      "sanitazing:credit_card_provider - object\n",
      "sanitazing:credit_card_security_code - object\n",
      "sanitazing:date_of_birth - object\n",
      "sanitazing:first_name - object\n",
      "sanitazing:gender - object\n",
      "sanitazing:job - object\n",
      "sanitazing:last_name - object\n",
      "sanitazing:ssn - object\n",
      "sanitazing:zipcode - object\n"
     ]
    },
    {
     "data": {
      "application/vnd.jupyter.widget-view+json": {
       "model_id": "12b7fe2f062e495b9b1b7e4ec3c6be9c",
       "version_major": 2,
       "version_minor": 0
      },
      "text/plain": [
       "HBox(children=(IntProgress(value=0, description=u'Data generator', max=8192), HTML(value=u'')))"
      ]
     },
     "metadata": {},
     "output_type": "display_data"
    },
    {
     "name": "stdout",
     "output_type": "stream",
     "text": [
      "sanitazing:address - object\n",
      "sanitazing:credit_card_expire - object\n",
      "sanitazing:credit_card_full - object\n",
      "sanitazing:credit_card_number - object\n",
      "sanitazing:credit_card_provider - object\n",
      "sanitazing:credit_card_security_code - object\n",
      "sanitazing:date_of_birth - object\n",
      "sanitazing:first_name - object\n",
      "sanitazing:gender - object\n",
      "sanitazing:job - object\n",
      "sanitazing:last_name - object\n",
      "sanitazing:ssn - object\n",
      "sanitazing:zipcode - object\n"
     ]
    },
    {
     "data": {
      "application/vnd.jupyter.widget-view+json": {
       "model_id": "9ff7441218974dadbe33290c3ae59e2c",
       "version_major": 2,
       "version_minor": 0
      },
      "text/plain": [
       "HBox(children=(IntProgress(value=0, description=u'Data generator', max=8192), HTML(value=u'')))"
      ]
     },
     "metadata": {},
     "output_type": "display_data"
    },
    {
     "name": "stdout",
     "output_type": "stream",
     "text": [
      "sanitazing:address - object\n",
      "sanitazing:credit_card_expire - object\n",
      "sanitazing:credit_card_full - object\n",
      "sanitazing:credit_card_number - object\n",
      "sanitazing:credit_card_provider - object\n",
      "sanitazing:credit_card_security_code - object\n",
      "sanitazing:date_of_birth - object\n",
      "sanitazing:first_name - object\n",
      "sanitazing:gender - object\n",
      "sanitazing:job - object\n",
      "sanitazing:last_name - object\n",
      "sanitazing:ssn - object\n",
      "sanitazing:zipcode - object\n"
     ]
    },
    {
     "data": {
      "application/vnd.jupyter.widget-view+json": {
       "model_id": "75815b134fa1419b83a167173acf235f",
       "version_major": 2,
       "version_minor": 0
      },
      "text/plain": [
       "HBox(children=(IntProgress(value=0, description=u'Data generator', max=8192), HTML(value=u'')))"
      ]
     },
     "metadata": {},
     "output_type": "display_data"
    },
    {
     "name": "stdout",
     "output_type": "stream",
     "text": [
      "sanitazing:address - object\n",
      "sanitazing:credit_card_expire - object\n",
      "sanitazing:credit_card_full - object\n",
      "sanitazing:credit_card_number - object\n",
      "sanitazing:credit_card_provider - object\n",
      "sanitazing:credit_card_security_code - object\n",
      "sanitazing:date_of_birth - object\n",
      "sanitazing:first_name - object\n",
      "sanitazing:gender - object\n",
      "sanitazing:job - object\n",
      "sanitazing:last_name - object\n",
      "sanitazing:ssn - object\n",
      "sanitazing:zipcode - object\n"
     ]
    },
    {
     "data": {
      "application/vnd.jupyter.widget-view+json": {
       "model_id": "129867feda5e44f0a65bc408794f951b",
       "version_major": 2,
       "version_minor": 0
      },
      "text/plain": [
       "HBox(children=(IntProgress(value=0, description=u'Data generator', max=8192), HTML(value=u'')))"
      ]
     },
     "metadata": {},
     "output_type": "display_data"
    },
    {
     "name": "stdout",
     "output_type": "stream",
     "text": [
      "sanitazing:address - object\n",
      "sanitazing:credit_card_expire - object\n",
      "sanitazing:credit_card_full - object\n",
      "sanitazing:credit_card_number - object\n",
      "sanitazing:credit_card_provider - object\n",
      "sanitazing:credit_card_security_code - object\n",
      "sanitazing:date_of_birth - object\n",
      "sanitazing:first_name - object\n",
      "sanitazing:gender - object\n",
      "sanitazing:job - object\n",
      "sanitazing:last_name - object\n",
      "sanitazing:ssn - object\n",
      "sanitazing:zipcode - object\n"
     ]
    },
    {
     "data": {
      "application/vnd.jupyter.widget-view+json": {
       "model_id": "f536df8577f44211aa481c2d47516a6d",
       "version_major": 2,
       "version_minor": 0
      },
      "text/plain": [
       "HBox(children=(IntProgress(value=0, description=u'Data generator', max=8192), HTML(value=u'')))"
      ]
     },
     "metadata": {},
     "output_type": "display_data"
    },
    {
     "name": "stdout",
     "output_type": "stream",
     "text": [
      "sanitazing:address - object\n",
      "sanitazing:credit_card_expire - object\n",
      "sanitazing:credit_card_full - object\n",
      "sanitazing:credit_card_number - object\n",
      "sanitazing:credit_card_provider - object\n",
      "sanitazing:credit_card_security_code - object\n",
      "sanitazing:date_of_birth - object\n",
      "sanitazing:first_name - object\n",
      "sanitazing:gender - object\n",
      "sanitazing:job - object\n",
      "sanitazing:last_name - object\n",
      "sanitazing:ssn - object\n",
      "sanitazing:zipcode - object\n"
     ]
    },
    {
     "data": {
      "application/vnd.jupyter.widget-view+json": {
       "model_id": "135a3b2250144233b83c3a6d67142e66",
       "version_major": 2,
       "version_minor": 0
      },
      "text/plain": [
       "HBox(children=(IntProgress(value=0, description=u'Data generator', max=8192), HTML(value=u'')))"
      ]
     },
     "metadata": {},
     "output_type": "display_data"
    },
    {
     "name": "stdout",
     "output_type": "stream",
     "text": [
      "sanitazing:address - object\n",
      "sanitazing:credit_card_expire - object\n",
      "sanitazing:credit_card_full - object\n",
      "sanitazing:credit_card_number - object\n",
      "sanitazing:credit_card_provider - object\n",
      "sanitazing:credit_card_security_code - object\n",
      "sanitazing:date_of_birth - object\n",
      "sanitazing:first_name - object\n",
      "sanitazing:gender - object\n",
      "sanitazing:job - object\n",
      "sanitazing:last_name - object\n",
      "sanitazing:ssn - object\n",
      "sanitazing:zipcode - object\n"
     ]
    },
    {
     "data": {
      "application/vnd.jupyter.widget-view+json": {
       "model_id": "53ab6dc358c0435c8fb3bccc540a8d16",
       "version_major": 2,
       "version_minor": 0
      },
      "text/plain": [
       "HBox(children=(IntProgress(value=0, description=u'Data generator', max=8192), HTML(value=u'')))"
      ]
     },
     "metadata": {},
     "output_type": "display_data"
    },
    {
     "name": "stdout",
     "output_type": "stream",
     "text": [
      "sanitazing:address - object\n",
      "sanitazing:credit_card_expire - object\n",
      "sanitazing:credit_card_full - object\n",
      "sanitazing:credit_card_number - object\n",
      "sanitazing:credit_card_provider - object\n",
      "sanitazing:credit_card_security_code - object\n",
      "sanitazing:date_of_birth - object\n",
      "sanitazing:first_name - object\n",
      "sanitazing:gender - object\n",
      "sanitazing:job - object\n",
      "sanitazing:last_name - object\n",
      "sanitazing:ssn - object\n",
      "sanitazing:zipcode - object\n"
     ]
    },
    {
     "data": {
      "application/vnd.jupyter.widget-view+json": {
       "model_id": "2e05a5b3d451479ca4a03b6269befd8f",
       "version_major": 2,
       "version_minor": 0
      },
      "text/plain": [
       "HBox(children=(IntProgress(value=0, description=u'Data generator', max=8192), HTML(value=u'')))"
      ]
     },
     "metadata": {},
     "output_type": "display_data"
    },
    {
     "name": "stdout",
     "output_type": "stream",
     "text": [
      "sanitazing:address - object\n",
      "sanitazing:credit_card_expire - object\n",
      "sanitazing:credit_card_full - object\n",
      "sanitazing:credit_card_number - object\n",
      "sanitazing:credit_card_provider - object\n",
      "sanitazing:credit_card_security_code - object\n",
      "sanitazing:date_of_birth - object\n",
      "sanitazing:first_name - object\n",
      "sanitazing:gender - object\n",
      "sanitazing:job - object\n",
      "sanitazing:last_name - object\n",
      "sanitazing:ssn - object\n",
      "sanitazing:zipcode - object\n"
     ]
    },
    {
     "data": {
      "application/vnd.jupyter.widget-view+json": {
       "model_id": "a62993651b2945da99ce4aea4e1eb035",
       "version_major": 2,
       "version_minor": 0
      },
      "text/plain": [
       "HBox(children=(IntProgress(value=0, description=u'Data generator', max=8192), HTML(value=u'')))"
      ]
     },
     "metadata": {},
     "output_type": "display_data"
    },
    {
     "name": "stdout",
     "output_type": "stream",
     "text": [
      "sanitazing:address - object\n",
      "sanitazing:credit_card_expire - object\n",
      "sanitazing:credit_card_full - object\n",
      "sanitazing:credit_card_number - object\n",
      "sanitazing:credit_card_provider - object\n",
      "sanitazing:credit_card_security_code - object\n",
      "sanitazing:date_of_birth - object\n",
      "sanitazing:first_name - object\n",
      "sanitazing:gender - object\n",
      "sanitazing:job - object\n",
      "sanitazing:last_name - object\n",
      "sanitazing:ssn - object\n",
      "sanitazing:zipcode - object\n"
     ]
    },
    {
     "data": {
      "application/vnd.jupyter.widget-view+json": {
       "model_id": "60e2fa079077435a918392944d0fe1b2",
       "version_major": 2,
       "version_minor": 0
      },
      "text/plain": [
       "HBox(children=(IntProgress(value=0, description=u'Data generator', max=8192), HTML(value=u'')))"
      ]
     },
     "metadata": {},
     "output_type": "display_data"
    },
    {
     "name": "stdout",
     "output_type": "stream",
     "text": [
      "sanitazing:address - object\n",
      "sanitazing:credit_card_expire - object\n",
      "sanitazing:credit_card_full - object\n",
      "sanitazing:credit_card_number - object\n",
      "sanitazing:credit_card_provider - object\n",
      "sanitazing:credit_card_security_code - object\n",
      "sanitazing:date_of_birth - object\n",
      "sanitazing:first_name - object\n",
      "sanitazing:gender - object\n",
      "sanitazing:job - object\n",
      "sanitazing:last_name - object\n",
      "sanitazing:ssn - object\n",
      "sanitazing:zipcode - object\n"
     ]
    },
    {
     "data": {
      "application/vnd.jupyter.widget-view+json": {
       "model_id": "0bedb346a2a84938b3ee1b3a18271304",
       "version_major": 2,
       "version_minor": 0
      },
      "text/plain": [
       "HBox(children=(IntProgress(value=0, description=u'Data generator', max=8192), HTML(value=u'')))"
      ]
     },
     "metadata": {},
     "output_type": "display_data"
    },
    {
     "name": "stdout",
     "output_type": "stream",
     "text": [
      "sanitazing:address - object\n",
      "sanitazing:credit_card_expire - object\n",
      "sanitazing:credit_card_full - object\n",
      "sanitazing:credit_card_number - object\n",
      "sanitazing:credit_card_provider - object\n",
      "sanitazing:credit_card_security_code - object\n",
      "sanitazing:date_of_birth - object\n",
      "sanitazing:first_name - object\n",
      "sanitazing:gender - object\n",
      "sanitazing:job - object\n",
      "sanitazing:last_name - object\n",
      "sanitazing:ssn - object\n",
      "sanitazing:zipcode - object\n"
     ]
    },
    {
     "data": {
      "application/vnd.jupyter.widget-view+json": {
       "model_id": "d9f6c152546d4eeaa68e512e74899d86",
       "version_major": 2,
       "version_minor": 0
      },
      "text/plain": [
       "HBox(children=(IntProgress(value=0, description=u'Data generator', max=8192), HTML(value=u'')))"
      ]
     },
     "metadata": {},
     "output_type": "display_data"
    },
    {
     "name": "stdout",
     "output_type": "stream",
     "text": [
      "sanitazing:address - object\n",
      "sanitazing:credit_card_expire - object\n",
      "sanitazing:credit_card_full - object\n",
      "sanitazing:credit_card_number - object\n",
      "sanitazing:credit_card_provider - object\n",
      "sanitazing:credit_card_security_code - object\n",
      "sanitazing:date_of_birth - object\n",
      "sanitazing:first_name - object\n",
      "sanitazing:gender - object\n",
      "sanitazing:job - object\n",
      "sanitazing:last_name - object\n",
      "sanitazing:ssn - object\n",
      "sanitazing:zipcode - object\n"
     ]
    },
    {
     "data": {
      "application/vnd.jupyter.widget-view+json": {
       "model_id": "3c7b4a26a8974ea2982c96950beb184e",
       "version_major": 2,
       "version_minor": 0
      },
      "text/plain": [
       "HBox(children=(IntProgress(value=0, description=u'Data generator', max=8192), HTML(value=u'')))"
      ]
     },
     "metadata": {},
     "output_type": "display_data"
    },
    {
     "name": "stdout",
     "output_type": "stream",
     "text": [
      "sanitazing:address - object\n",
      "sanitazing:credit_card_expire - object\n",
      "sanitazing:credit_card_full - object\n",
      "sanitazing:credit_card_number - object\n",
      "sanitazing:credit_card_provider - object\n",
      "sanitazing:credit_card_security_code - object\n",
      "sanitazing:date_of_birth - object\n",
      "sanitazing:first_name - object\n",
      "sanitazing:gender - object\n",
      "sanitazing:job - object\n",
      "sanitazing:last_name - object\n",
      "sanitazing:ssn - object\n",
      "sanitazing:zipcode - object\n"
     ]
    },
    {
     "data": {
      "application/vnd.jupyter.widget-view+json": {
       "model_id": "54ccbdc15e4b4935a8942abcbcb623eb",
       "version_major": 2,
       "version_minor": 0
      },
      "text/plain": [
       "HBox(children=(IntProgress(value=0, description=u'Data generator', max=8192), HTML(value=u'')))"
      ]
     },
     "metadata": {},
     "output_type": "display_data"
    },
    {
     "name": "stdout",
     "output_type": "stream",
     "text": [
      "sanitazing:address - object\n",
      "sanitazing:credit_card_expire - object\n",
      "sanitazing:credit_card_full - object\n",
      "sanitazing:credit_card_number - object\n",
      "sanitazing:credit_card_provider - object\n",
      "sanitazing:credit_card_security_code - object\n",
      "sanitazing:date_of_birth - object\n",
      "sanitazing:first_name - object\n",
      "sanitazing:gender - object\n",
      "sanitazing:job - object\n",
      "sanitazing:last_name - object\n",
      "sanitazing:ssn - object\n",
      "sanitazing:zipcode - object\n"
     ]
    },
    {
     "data": {
      "application/vnd.jupyter.widget-view+json": {
       "model_id": "167d244899064d03a0775ead16b7ae1e",
       "version_major": 2,
       "version_minor": 0
      },
      "text/plain": [
       "HBox(children=(IntProgress(value=0, description=u'Data generator', max=8192), HTML(value=u'')))"
      ]
     },
     "metadata": {},
     "output_type": "display_data"
    },
    {
     "name": "stdout",
     "output_type": "stream",
     "text": [
      "sanitazing:address - object\n",
      "sanitazing:credit_card_expire - object\n",
      "sanitazing:credit_card_full - object\n",
      "sanitazing:credit_card_number - object\n",
      "sanitazing:credit_card_provider - object\n",
      "sanitazing:credit_card_security_code - object\n",
      "sanitazing:date_of_birth - object\n",
      "sanitazing:first_name - object\n",
      "sanitazing:gender - object\n",
      "sanitazing:job - object\n",
      "sanitazing:last_name - object\n",
      "sanitazing:ssn - object\n",
      "sanitazing:zipcode - object\n"
     ]
    },
    {
     "data": {
      "application/vnd.jupyter.widget-view+json": {
       "model_id": "5f9e8685c90848b193e25102b255a704",
       "version_major": 2,
       "version_minor": 0
      },
      "text/plain": [
       "HBox(children=(IntProgress(value=0, description=u'Data generator', max=8192), HTML(value=u'')))"
      ]
     },
     "metadata": {},
     "output_type": "display_data"
    },
    {
     "name": "stdout",
     "output_type": "stream",
     "text": [
      "sanitazing:address - object\n",
      "sanitazing:credit_card_expire - object\n",
      "sanitazing:credit_card_full - object\n",
      "sanitazing:credit_card_number - object\n",
      "sanitazing:credit_card_provider - object\n",
      "sanitazing:credit_card_security_code - object\n",
      "sanitazing:date_of_birth - object\n",
      "sanitazing:first_name - object\n",
      "sanitazing:gender - object\n",
      "sanitazing:job - object\n",
      "sanitazing:last_name - object\n",
      "sanitazing:ssn - object\n",
      "sanitazing:zipcode - object\n"
     ]
    },
    {
     "data": {
      "application/vnd.jupyter.widget-view+json": {
       "model_id": "5505bcfdd3c84a14b26652ee8d062067",
       "version_major": 2,
       "version_minor": 0
      },
      "text/plain": [
       "HBox(children=(IntProgress(value=0, description=u'Data generator', max=8192), HTML(value=u'')))"
      ]
     },
     "metadata": {},
     "output_type": "display_data"
    },
    {
     "name": "stdout",
     "output_type": "stream",
     "text": [
      "sanitazing:address - object\n",
      "sanitazing:credit_card_expire - object\n",
      "sanitazing:credit_card_full - object\n",
      "sanitazing:credit_card_number - object\n",
      "sanitazing:credit_card_provider - object\n",
      "sanitazing:credit_card_security_code - object\n",
      "sanitazing:date_of_birth - object\n",
      "sanitazing:first_name - object\n",
      "sanitazing:gender - object\n",
      "sanitazing:job - object\n",
      "sanitazing:last_name - object\n",
      "sanitazing:ssn - object\n",
      "sanitazing:zipcode - object\n"
     ]
    },
    {
     "data": {
      "application/vnd.jupyter.widget-view+json": {
       "model_id": "7bc9e7936e1247619bdf9098db145889",
       "version_major": 2,
       "version_minor": 0
      },
      "text/plain": [
       "HBox(children=(IntProgress(value=0, description=u'Data generator', max=8192), HTML(value=u'')))"
      ]
     },
     "metadata": {},
     "output_type": "display_data"
    },
    {
     "name": "stdout",
     "output_type": "stream",
     "text": [
      "sanitazing:address - object\n",
      "sanitazing:credit_card_expire - object\n",
      "sanitazing:credit_card_full - object\n",
      "sanitazing:credit_card_number - object\n",
      "sanitazing:credit_card_provider - object\n",
      "sanitazing:credit_card_security_code - object\n",
      "sanitazing:date_of_birth - object\n",
      "sanitazing:first_name - object\n",
      "sanitazing:gender - object\n",
      "sanitazing:job - object\n",
      "sanitazing:last_name - object\n",
      "sanitazing:ssn - object\n",
      "sanitazing:zipcode - object\n"
     ]
    },
    {
     "data": {
      "application/vnd.jupyter.widget-view+json": {
       "model_id": "e6a29cbd9f0d44948ad468efb20306b5",
       "version_major": 2,
       "version_minor": 0
      },
      "text/plain": [
       "HBox(children=(IntProgress(value=0, description=u'Data generator', max=8192), HTML(value=u'')))"
      ]
     },
     "metadata": {},
     "output_type": "display_data"
    },
    {
     "name": "stdout",
     "output_type": "stream",
     "text": [
      "sanitazing:address - object\n",
      "sanitazing:credit_card_expire - object\n",
      "sanitazing:credit_card_full - object\n",
      "sanitazing:credit_card_number - object\n",
      "sanitazing:credit_card_provider - object\n",
      "sanitazing:credit_card_security_code - object\n",
      "sanitazing:date_of_birth - object\n",
      "sanitazing:first_name - object\n",
      "sanitazing:gender - object\n",
      "sanitazing:job - object\n",
      "sanitazing:last_name - object\n",
      "sanitazing:ssn - object\n",
      "sanitazing:zipcode - object\n"
     ]
    },
    {
     "data": {
      "application/vnd.jupyter.widget-view+json": {
       "model_id": "1a2ffc9d4ad348c6a9afdfe66d39ff88",
       "version_major": 2,
       "version_minor": 0
      },
      "text/plain": [
       "HBox(children=(IntProgress(value=0, description=u'Data generator', max=8192), HTML(value=u'')))"
      ]
     },
     "metadata": {},
     "output_type": "display_data"
    },
    {
     "name": "stdout",
     "output_type": "stream",
     "text": [
      "sanitazing:address - object\n",
      "sanitazing:credit_card_expire - object\n",
      "sanitazing:credit_card_full - object\n",
      "sanitazing:credit_card_number - object\n",
      "sanitazing:credit_card_provider - object\n",
      "sanitazing:credit_card_security_code - object\n",
      "sanitazing:date_of_birth - object\n",
      "sanitazing:first_name - object\n",
      "sanitazing:gender - object\n",
      "sanitazing:job - object\n",
      "sanitazing:last_name - object\n",
      "sanitazing:ssn - object\n",
      "sanitazing:zipcode - object\n"
     ]
    },
    {
     "data": {
      "application/vnd.jupyter.widget-view+json": {
       "model_id": "83aa8c5195e94e59a80f17ad28445115",
       "version_major": 2,
       "version_minor": 0
      },
      "text/plain": [
       "HBox(children=(IntProgress(value=0, description=u'Data generator', max=8192), HTML(value=u'')))"
      ]
     },
     "metadata": {},
     "output_type": "display_data"
    },
    {
     "name": "stdout",
     "output_type": "stream",
     "text": [
      "sanitazing:address - object\n",
      "sanitazing:credit_card_expire - object\n",
      "sanitazing:credit_card_full - object\n",
      "sanitazing:credit_card_number - object\n",
      "sanitazing:credit_card_provider - object\n",
      "sanitazing:credit_card_security_code - object\n",
      "sanitazing:date_of_birth - object\n",
      "sanitazing:first_name - object\n",
      "sanitazing:gender - object\n",
      "sanitazing:job - object\n",
      "sanitazing:last_name - object\n",
      "sanitazing:ssn - object\n",
      "sanitazing:zipcode - object\n"
     ]
    },
    {
     "data": {
      "application/vnd.jupyter.widget-view+json": {
       "model_id": "9af774ebd58d4adc8fbda7b8bbd7c23e",
       "version_major": 2,
       "version_minor": 0
      },
      "text/plain": [
       "HBox(children=(IntProgress(value=0, description=u'Data generator', max=8192), HTML(value=u'')))"
      ]
     },
     "metadata": {},
     "output_type": "display_data"
    },
    {
     "name": "stdout",
     "output_type": "stream",
     "text": [
      "sanitazing:address - object\n",
      "sanitazing:credit_card_expire - object\n",
      "sanitazing:credit_card_full - object\n",
      "sanitazing:credit_card_number - object\n",
      "sanitazing:credit_card_provider - object\n",
      "sanitazing:credit_card_security_code - object\n",
      "sanitazing:date_of_birth - object\n",
      "sanitazing:first_name - object\n",
      "sanitazing:gender - object\n",
      "sanitazing:job - object\n",
      "sanitazing:last_name - object\n",
      "sanitazing:ssn - object\n",
      "sanitazing:zipcode - object\n"
     ]
    },
    {
     "data": {
      "application/vnd.jupyter.widget-view+json": {
       "model_id": "699546e4b46b48dab42f11b6adeccd2f",
       "version_major": 2,
       "version_minor": 0
      },
      "text/plain": [
       "HBox(children=(IntProgress(value=0, description=u'Data generator', max=8192), HTML(value=u'')))"
      ]
     },
     "metadata": {},
     "output_type": "display_data"
    },
    {
     "name": "stdout",
     "output_type": "stream",
     "text": [
      "sanitazing:address - object\n",
      "sanitazing:credit_card_expire - object\n",
      "sanitazing:credit_card_full - object\n",
      "sanitazing:credit_card_number - object\n",
      "sanitazing:credit_card_provider - object\n",
      "sanitazing:credit_card_security_code - object\n",
      "sanitazing:date_of_birth - object\n",
      "sanitazing:first_name - object\n",
      "sanitazing:gender - object\n",
      "sanitazing:job - object\n",
      "sanitazing:last_name - object\n",
      "sanitazing:ssn - object\n",
      "sanitazing:zipcode - object\n"
     ]
    },
    {
     "data": {
      "application/vnd.jupyter.widget-view+json": {
       "model_id": "d68d2447b48c4f6e825bb52c5020baa4",
       "version_major": 2,
       "version_minor": 0
      },
      "text/plain": [
       "HBox(children=(IntProgress(value=0, description=u'Data generator', max=8192), HTML(value=u'')))"
      ]
     },
     "metadata": {},
     "output_type": "display_data"
    },
    {
     "name": "stdout",
     "output_type": "stream",
     "text": [
      "sanitazing:address - object\n",
      "sanitazing:credit_card_expire - object\n",
      "sanitazing:credit_card_full - object\n",
      "sanitazing:credit_card_number - object\n",
      "sanitazing:credit_card_provider - object\n",
      "sanitazing:credit_card_security_code - object\n",
      "sanitazing:date_of_birth - object\n",
      "sanitazing:first_name - object\n",
      "sanitazing:gender - object\n",
      "sanitazing:job - object\n",
      "sanitazing:last_name - object\n",
      "sanitazing:ssn - object\n",
      "sanitazing:zipcode - object\n"
     ]
    },
    {
     "data": {
      "application/vnd.jupyter.widget-view+json": {
       "model_id": "ff1c47c8d79e4e0cb2a3206aa64e8501",
       "version_major": 2,
       "version_minor": 0
      },
      "text/plain": [
       "HBox(children=(IntProgress(value=0, description=u'Data generator', max=8192), HTML(value=u'')))"
      ]
     },
     "metadata": {},
     "output_type": "display_data"
    },
    {
     "name": "stdout",
     "output_type": "stream",
     "text": [
      "sanitazing:address - object\n",
      "sanitazing:credit_card_expire - object\n",
      "sanitazing:credit_card_full - object\n",
      "sanitazing:credit_card_number - object\n",
      "sanitazing:credit_card_provider - object\n",
      "sanitazing:credit_card_security_code - object\n",
      "sanitazing:date_of_birth - object\n",
      "sanitazing:first_name - object\n",
      "sanitazing:gender - object\n",
      "sanitazing:job - object\n",
      "sanitazing:last_name - object\n",
      "sanitazing:ssn - object\n",
      "sanitazing:zipcode - object\n"
     ]
    },
    {
     "data": {
      "application/vnd.jupyter.widget-view+json": {
       "model_id": "665d29514d4f4426b476d75b1b20c5aa",
       "version_major": 2,
       "version_minor": 0
      },
      "text/plain": [
       "HBox(children=(IntProgress(value=0, description=u'Data generator', max=8192), HTML(value=u'')))"
      ]
     },
     "metadata": {},
     "output_type": "display_data"
    },
    {
     "name": "stdout",
     "output_type": "stream",
     "text": [
      "sanitazing:address - object\n",
      "sanitazing:credit_card_expire - object\n",
      "sanitazing:credit_card_full - object\n",
      "sanitazing:credit_card_number - object\n",
      "sanitazing:credit_card_provider - object\n",
      "sanitazing:credit_card_security_code - object\n",
      "sanitazing:date_of_birth - object\n",
      "sanitazing:first_name - object\n",
      "sanitazing:gender - object\n",
      "sanitazing:job - object\n",
      "sanitazing:last_name - object\n",
      "sanitazing:ssn - object\n",
      "sanitazing:zipcode - object\n"
     ]
    },
    {
     "data": {
      "application/vnd.jupyter.widget-view+json": {
       "model_id": "005aaa658259406caed7a6dc34a8946d",
       "version_major": 2,
       "version_minor": 0
      },
      "text/plain": [
       "HBox(children=(IntProgress(value=0, description=u'Data generator', max=8192), HTML(value=u'')))"
      ]
     },
     "metadata": {},
     "output_type": "display_data"
    },
    {
     "name": "stdout",
     "output_type": "stream",
     "text": [
      "sanitazing:address - object\n",
      "sanitazing:credit_card_expire - object\n",
      "sanitazing:credit_card_full - object\n",
      "sanitazing:credit_card_number - object\n",
      "sanitazing:credit_card_provider - object\n",
      "sanitazing:credit_card_security_code - object\n",
      "sanitazing:date_of_birth - object\n",
      "sanitazing:first_name - object\n",
      "sanitazing:gender - object\n",
      "sanitazing:job - object\n",
      "sanitazing:last_name - object\n",
      "sanitazing:ssn - object\n",
      "sanitazing:zipcode - object\n"
     ]
    },
    {
     "data": {
      "application/vnd.jupyter.widget-view+json": {
       "model_id": "9a7a945468954e35a2d31ca83f29f9cb",
       "version_major": 2,
       "version_minor": 0
      },
      "text/plain": [
       "HBox(children=(IntProgress(value=0, description=u'Data generator', max=8192), HTML(value=u'')))"
      ]
     },
     "metadata": {},
     "output_type": "display_data"
    },
    {
     "name": "stdout",
     "output_type": "stream",
     "text": [
      "sanitazing:address - object\n",
      "sanitazing:credit_card_expire - object\n",
      "sanitazing:credit_card_full - object\n",
      "sanitazing:credit_card_number - object\n",
      "sanitazing:credit_card_provider - object\n",
      "sanitazing:credit_card_security_code - object\n",
      "sanitazing:date_of_birth - object\n",
      "sanitazing:first_name - object\n",
      "sanitazing:gender - object\n",
      "sanitazing:job - object\n",
      "sanitazing:last_name - object\n",
      "sanitazing:ssn - object\n",
      "sanitazing:zipcode - object\n"
     ]
    },
    {
     "data": {
      "application/vnd.jupyter.widget-view+json": {
       "model_id": "ce25250b062345e3a54d13d642ddd380",
       "version_major": 2,
       "version_minor": 0
      },
      "text/plain": [
       "HBox(children=(IntProgress(value=0, description=u'Data generator', max=8192), HTML(value=u'')))"
      ]
     },
     "metadata": {},
     "output_type": "display_data"
    },
    {
     "name": "stdout",
     "output_type": "stream",
     "text": [
      "sanitazing:address - object\n",
      "sanitazing:credit_card_expire - object\n",
      "sanitazing:credit_card_full - object\n",
      "sanitazing:credit_card_number - object\n",
      "sanitazing:credit_card_provider - object\n",
      "sanitazing:credit_card_security_code - object\n",
      "sanitazing:date_of_birth - object\n",
      "sanitazing:first_name - object\n",
      "sanitazing:gender - object\n",
      "sanitazing:job - object\n",
      "sanitazing:last_name - object\n",
      "sanitazing:ssn - object\n",
      "sanitazing:zipcode - object\n"
     ]
    },
    {
     "data": {
      "application/vnd.jupyter.widget-view+json": {
       "model_id": "c4f00354b77241839338a5d9a5d5b54f",
       "version_major": 2,
       "version_minor": 0
      },
      "text/plain": [
       "HBox(children=(IntProgress(value=0, description=u'Data generator', max=8192), HTML(value=u'')))"
      ]
     },
     "metadata": {},
     "output_type": "display_data"
    },
    {
     "name": "stdout",
     "output_type": "stream",
     "text": [
      "sanitazing:address - object\n",
      "sanitazing:credit_card_expire - object\n",
      "sanitazing:credit_card_full - object\n",
      "sanitazing:credit_card_number - object\n",
      "sanitazing:credit_card_provider - object\n",
      "sanitazing:credit_card_security_code - object\n",
      "sanitazing:date_of_birth - object\n",
      "sanitazing:first_name - object\n",
      "sanitazing:gender - object\n",
      "sanitazing:job - object\n",
      "sanitazing:last_name - object\n",
      "sanitazing:ssn - object\n",
      "sanitazing:zipcode - object\n"
     ]
    },
    {
     "data": {
      "application/vnd.jupyter.widget-view+json": {
       "model_id": "659a9287128e4fa681f98346bb2fd402",
       "version_major": 2,
       "version_minor": 0
      },
      "text/plain": [
       "HBox(children=(IntProgress(value=0, description=u'Data generator', max=8192), HTML(value=u'')))"
      ]
     },
     "metadata": {},
     "output_type": "display_data"
    },
    {
     "name": "stdout",
     "output_type": "stream",
     "text": [
      "sanitazing:address - object\n",
      "sanitazing:credit_card_expire - object\n",
      "sanitazing:credit_card_full - object\n",
      "sanitazing:credit_card_number - object\n",
      "sanitazing:credit_card_provider - object\n",
      "sanitazing:credit_card_security_code - object\n",
      "sanitazing:date_of_birth - object\n",
      "sanitazing:first_name - object\n",
      "sanitazing:gender - object\n",
      "sanitazing:job - object\n",
      "sanitazing:last_name - object\n",
      "sanitazing:ssn - object\n",
      "sanitazing:zipcode - object\n"
     ]
    },
    {
     "data": {
      "application/vnd.jupyter.widget-view+json": {
       "model_id": "cf0b0e6b7d7046edab34f9617d3d9767",
       "version_major": 2,
       "version_minor": 0
      },
      "text/plain": [
       "HBox(children=(IntProgress(value=0, description=u'Data generator', max=8192), HTML(value=u'')))"
      ]
     },
     "metadata": {},
     "output_type": "display_data"
    },
    {
     "name": "stdout",
     "output_type": "stream",
     "text": [
      "sanitazing:address - object\n",
      "sanitazing:credit_card_expire - object\n",
      "sanitazing:credit_card_full - object\n",
      "sanitazing:credit_card_number - object\n",
      "sanitazing:credit_card_provider - object\n",
      "sanitazing:credit_card_security_code - object\n",
      "sanitazing:date_of_birth - object\n",
      "sanitazing:first_name - object\n",
      "sanitazing:gender - object\n",
      "sanitazing:job - object\n",
      "sanitazing:last_name - object\n",
      "sanitazing:ssn - object\n",
      "sanitazing:zipcode - object\n"
     ]
    },
    {
     "data": {
      "application/vnd.jupyter.widget-view+json": {
       "model_id": "8f57423aecf9484fb5d45515107fe1d4",
       "version_major": 2,
       "version_minor": 0
      },
      "text/plain": [
       "HBox(children=(IntProgress(value=0, description=u'Data generator', max=8192), HTML(value=u'')))"
      ]
     },
     "metadata": {},
     "output_type": "display_data"
    },
    {
     "name": "stdout",
     "output_type": "stream",
     "text": [
      "sanitazing:address - object\n",
      "sanitazing:credit_card_expire - object\n",
      "sanitazing:credit_card_full - object\n",
      "sanitazing:credit_card_number - object\n",
      "sanitazing:credit_card_provider - object\n",
      "sanitazing:credit_card_security_code - object\n",
      "sanitazing:date_of_birth - object\n",
      "sanitazing:first_name - object\n",
      "sanitazing:gender - object\n",
      "sanitazing:job - object\n",
      "sanitazing:last_name - object\n",
      "sanitazing:ssn - object\n",
      "sanitazing:zipcode - object\n"
     ]
    },
    {
     "data": {
      "application/vnd.jupyter.widget-view+json": {
       "model_id": "7ff2599ba81543079e4dccb89d50f011",
       "version_major": 2,
       "version_minor": 0
      },
      "text/plain": [
       "HBox(children=(IntProgress(value=0, description=u'Data generator', max=8192), HTML(value=u'')))"
      ]
     },
     "metadata": {},
     "output_type": "display_data"
    },
    {
     "name": "stdout",
     "output_type": "stream",
     "text": [
      "sanitazing:address - object\n",
      "sanitazing:credit_card_expire - object\n",
      "sanitazing:credit_card_full - object\n",
      "sanitazing:credit_card_number - object\n",
      "sanitazing:credit_card_provider - object\n",
      "sanitazing:credit_card_security_code - object\n",
      "sanitazing:date_of_birth - object\n",
      "sanitazing:first_name - object\n",
      "sanitazing:gender - object\n",
      "sanitazing:job - object\n",
      "sanitazing:last_name - object\n",
      "sanitazing:ssn - object\n",
      "sanitazing:zipcode - object\n"
     ]
    },
    {
     "data": {
      "application/vnd.jupyter.widget-view+json": {
       "model_id": "c6f6845688c44c38be3f23338b3e9e7e",
       "version_major": 2,
       "version_minor": 0
      },
      "text/plain": [
       "HBox(children=(IntProgress(value=0, description=u'Data generator', max=8192), HTML(value=u'')))"
      ]
     },
     "metadata": {},
     "output_type": "display_data"
    },
    {
     "name": "stdout",
     "output_type": "stream",
     "text": [
      "sanitazing:address - object\n",
      "sanitazing:credit_card_expire - object\n",
      "sanitazing:credit_card_full - object\n",
      "sanitazing:credit_card_number - object\n",
      "sanitazing:credit_card_provider - object\n",
      "sanitazing:credit_card_security_code - object\n",
      "sanitazing:date_of_birth - object\n",
      "sanitazing:first_name - object\n",
      "sanitazing:gender - object\n",
      "sanitazing:job - object\n",
      "sanitazing:last_name - object\n",
      "sanitazing:ssn - object\n",
      "sanitazing:zipcode - object\n"
     ]
    },
    {
     "data": {
      "application/vnd.jupyter.widget-view+json": {
       "model_id": "cc375f3cf81545b1ad73fa7d80015709",
       "version_major": 2,
       "version_minor": 0
      },
      "text/plain": [
       "HBox(children=(IntProgress(value=0, description=u'Data generator', max=8192), HTML(value=u'')))"
      ]
     },
     "metadata": {},
     "output_type": "display_data"
    },
    {
     "name": "stdout",
     "output_type": "stream",
     "text": [
      "sanitazing:address - object\n",
      "sanitazing:credit_card_expire - object\n",
      "sanitazing:credit_card_full - object\n",
      "sanitazing:credit_card_number - object\n",
      "sanitazing:credit_card_provider - object\n",
      "sanitazing:credit_card_security_code - object\n",
      "sanitazing:date_of_birth - object\n",
      "sanitazing:first_name - object\n",
      "sanitazing:gender - object\n",
      "sanitazing:job - object\n",
      "sanitazing:last_name - object\n",
      "sanitazing:ssn - object\n",
      "sanitazing:zipcode - object\n"
     ]
    },
    {
     "data": {
      "application/vnd.jupyter.widget-view+json": {
       "model_id": "05e950179d42457e87140f0fbf62914f",
       "version_major": 2,
       "version_minor": 0
      },
      "text/plain": [
       "HBox(children=(IntProgress(value=0, description=u'Data generator', max=8192), HTML(value=u'')))"
      ]
     },
     "metadata": {},
     "output_type": "display_data"
    },
    {
     "name": "stdout",
     "output_type": "stream",
     "text": [
      "sanitazing:address - object\n",
      "sanitazing:credit_card_expire - object\n",
      "sanitazing:credit_card_full - object\n",
      "sanitazing:credit_card_number - object\n",
      "sanitazing:credit_card_provider - object\n",
      "sanitazing:credit_card_security_code - object\n",
      "sanitazing:date_of_birth - object\n",
      "sanitazing:first_name - object\n",
      "sanitazing:gender - object\n",
      "sanitazing:job - object\n",
      "sanitazing:last_name - object\n",
      "sanitazing:ssn - object\n",
      "sanitazing:zipcode - object\n"
     ]
    },
    {
     "data": {
      "application/vnd.jupyter.widget-view+json": {
       "model_id": "25b21334a4894efe83b186a3059ae7f8",
       "version_major": 2,
       "version_minor": 0
      },
      "text/plain": [
       "HBox(children=(IntProgress(value=0, description=u'Data generator', max=8192), HTML(value=u'')))"
      ]
     },
     "metadata": {},
     "output_type": "display_data"
    },
    {
     "name": "stdout",
     "output_type": "stream",
     "text": [
      "sanitazing:address - object\n",
      "sanitazing:credit_card_expire - object\n",
      "sanitazing:credit_card_full - object\n",
      "sanitazing:credit_card_number - object\n",
      "sanitazing:credit_card_provider - object\n",
      "sanitazing:credit_card_security_code - object\n",
      "sanitazing:date_of_birth - object\n",
      "sanitazing:first_name - object\n",
      "sanitazing:gender - object\n",
      "sanitazing:job - object\n",
      "sanitazing:last_name - object\n",
      "sanitazing:ssn - object\n",
      "sanitazing:zipcode - object\n"
     ]
    },
    {
     "data": {
      "application/vnd.jupyter.widget-view+json": {
       "model_id": "68f18acf47aa45fcb99cbdf056bc99bb",
       "version_major": 2,
       "version_minor": 0
      },
      "text/plain": [
       "HBox(children=(IntProgress(value=0, description=u'Data generator', max=8192), HTML(value=u'')))"
      ]
     },
     "metadata": {},
     "output_type": "display_data"
    },
    {
     "name": "stdout",
     "output_type": "stream",
     "text": [
      "sanitazing:address - object\n",
      "sanitazing:credit_card_expire - object\n",
      "sanitazing:credit_card_full - object\n",
      "sanitazing:credit_card_number - object\n",
      "sanitazing:credit_card_provider - object\n",
      "sanitazing:credit_card_security_code - object\n",
      "sanitazing:date_of_birth - object\n",
      "sanitazing:first_name - object\n",
      "sanitazing:gender - object\n",
      "sanitazing:job - object\n",
      "sanitazing:last_name - object\n",
      "sanitazing:ssn - object\n",
      "sanitazing:zipcode - object\n"
     ]
    },
    {
     "data": {
      "application/vnd.jupyter.widget-view+json": {
       "model_id": "4edf1ebbe3e64b0aa718604a6c22d6e1",
       "version_major": 2,
       "version_minor": 0
      },
      "text/plain": [
       "HBox(children=(IntProgress(value=0, description=u'Data generator', max=8192), HTML(value=u'')))"
      ]
     },
     "metadata": {},
     "output_type": "display_data"
    },
    {
     "name": "stdout",
     "output_type": "stream",
     "text": [
      "sanitazing:address - object\n",
      "sanitazing:credit_card_expire - object\n",
      "sanitazing:credit_card_full - object\n",
      "sanitazing:credit_card_number - object\n",
      "sanitazing:credit_card_provider - object\n",
      "sanitazing:credit_card_security_code - object\n",
      "sanitazing:date_of_birth - object\n",
      "sanitazing:first_name - object\n",
      "sanitazing:gender - object\n",
      "sanitazing:job - object\n",
      "sanitazing:last_name - object\n",
      "sanitazing:ssn - object\n",
      "sanitazing:zipcode - object\n"
     ]
    },
    {
     "data": {
      "application/vnd.jupyter.widget-view+json": {
       "model_id": "c202615d85a7431ea7b204f19f45f054",
       "version_major": 2,
       "version_minor": 0
      },
      "text/plain": [
       "HBox(children=(IntProgress(value=0, description=u'Data generator', max=8192), HTML(value=u'')))"
      ]
     },
     "metadata": {},
     "output_type": "display_data"
    },
    {
     "name": "stdout",
     "output_type": "stream",
     "text": [
      "sanitazing:address - object\n",
      "sanitazing:credit_card_expire - object\n",
      "sanitazing:credit_card_full - object\n",
      "sanitazing:credit_card_number - object\n",
      "sanitazing:credit_card_provider - object\n",
      "sanitazing:credit_card_security_code - object\n",
      "sanitazing:date_of_birth - object\n",
      "sanitazing:first_name - object\n",
      "sanitazing:gender - object\n",
      "sanitazing:job - object\n",
      "sanitazing:last_name - object\n",
      "sanitazing:ssn - object\n",
      "sanitazing:zipcode - object\n"
     ]
    },
    {
     "data": {
      "application/vnd.jupyter.widget-view+json": {
       "model_id": "d9ebbd8b83234cd1b925272c682db9ec",
       "version_major": 2,
       "version_minor": 0
      },
      "text/plain": [
       "HBox(children=(IntProgress(value=0, description=u'Data generator', max=8192), HTML(value=u'')))"
      ]
     },
     "metadata": {},
     "output_type": "display_data"
    },
    {
     "name": "stdout",
     "output_type": "stream",
     "text": [
      "sanitazing:address - object\n",
      "sanitazing:credit_card_expire - object\n",
      "sanitazing:credit_card_full - object\n",
      "sanitazing:credit_card_number - object\n",
      "sanitazing:credit_card_provider - object\n",
      "sanitazing:credit_card_security_code - object\n",
      "sanitazing:date_of_birth - object\n",
      "sanitazing:first_name - object\n",
      "sanitazing:gender - object\n",
      "sanitazing:job - object\n",
      "sanitazing:last_name - object\n",
      "sanitazing:ssn - object\n",
      "sanitazing:zipcode - object\n"
     ]
    },
    {
     "data": {
      "application/vnd.jupyter.widget-view+json": {
       "model_id": "a52955442f184c8a916fc05edd3c7b98",
       "version_major": 2,
       "version_minor": 0
      },
      "text/plain": [
       "HBox(children=(IntProgress(value=0, description=u'Data generator', max=8192), HTML(value=u'')))"
      ]
     },
     "metadata": {},
     "output_type": "display_data"
    },
    {
     "name": "stdout",
     "output_type": "stream",
     "text": [
      "sanitazing:address - object\n",
      "sanitazing:credit_card_expire - object\n",
      "sanitazing:credit_card_full - object\n",
      "sanitazing:credit_card_number - object\n",
      "sanitazing:credit_card_provider - object\n",
      "sanitazing:credit_card_security_code - object\n",
      "sanitazing:date_of_birth - object\n",
      "sanitazing:first_name - object\n",
      "sanitazing:gender - object\n",
      "sanitazing:job - object\n",
      "sanitazing:last_name - object\n",
      "sanitazing:ssn - object\n",
      "sanitazing:zipcode - object\n"
     ]
    },
    {
     "data": {
      "application/vnd.jupyter.widget-view+json": {
       "model_id": "6339530926e84112aeea1ecfa5876f7b",
       "version_major": 2,
       "version_minor": 0
      },
      "text/plain": [
       "HBox(children=(IntProgress(value=0, description=u'Data generator', max=8192), HTML(value=u'')))"
      ]
     },
     "metadata": {},
     "output_type": "display_data"
    },
    {
     "name": "stdout",
     "output_type": "stream",
     "text": [
      "sanitazing:address - object\n",
      "sanitazing:credit_card_expire - object\n",
      "sanitazing:credit_card_full - object\n",
      "sanitazing:credit_card_number - object\n",
      "sanitazing:credit_card_provider - object\n",
      "sanitazing:credit_card_security_code - object\n",
      "sanitazing:date_of_birth - object\n",
      "sanitazing:first_name - object\n",
      "sanitazing:gender - object\n",
      "sanitazing:job - object\n",
      "sanitazing:last_name - object\n",
      "sanitazing:ssn - object\n",
      "sanitazing:zipcode - object\n"
     ]
    },
    {
     "data": {
      "application/vnd.jupyter.widget-view+json": {
       "model_id": "0dd1fd8c99904104922fc635e910e1eb",
       "version_major": 2,
       "version_minor": 0
      },
      "text/plain": [
       "HBox(children=(IntProgress(value=0, description=u'Data generator', max=8192), HTML(value=u'')))"
      ]
     },
     "metadata": {},
     "output_type": "display_data"
    },
    {
     "name": "stdout",
     "output_type": "stream",
     "text": [
      "sanitazing:address - object\n",
      "sanitazing:credit_card_expire - object\n",
      "sanitazing:credit_card_full - object\n",
      "sanitazing:credit_card_number - object\n",
      "sanitazing:credit_card_provider - object\n",
      "sanitazing:credit_card_security_code - object\n",
      "sanitazing:date_of_birth - object\n",
      "sanitazing:first_name - object\n",
      "sanitazing:gender - object\n",
      "sanitazing:job - object\n",
      "sanitazing:last_name - object\n",
      "sanitazing:ssn - object\n",
      "sanitazing:zipcode - object\n"
     ]
    },
    {
     "data": {
      "application/vnd.jupyter.widget-view+json": {
       "model_id": "c61c68f8c6d04c66911303de8cf16c19",
       "version_major": 2,
       "version_minor": 0
      },
      "text/plain": [
       "HBox(children=(IntProgress(value=0, description=u'Data generator', max=8192), HTML(value=u'')))"
      ]
     },
     "metadata": {},
     "output_type": "display_data"
    },
    {
     "name": "stdout",
     "output_type": "stream",
     "text": [
      "sanitazing:address - object\n",
      "sanitazing:credit_card_expire - object\n",
      "sanitazing:credit_card_full - object\n",
      "sanitazing:credit_card_number - object\n",
      "sanitazing:credit_card_provider - object\n",
      "sanitazing:credit_card_security_code - object\n",
      "sanitazing:date_of_birth - object\n",
      "sanitazing:first_name - object\n",
      "sanitazing:gender - object\n",
      "sanitazing:job - object\n",
      "sanitazing:last_name - object\n",
      "sanitazing:ssn - object\n",
      "sanitazing:zipcode - object\n",
      "\n"
     ]
    }
   ],
   "source": [
    "for s in tnrange(max_file,desc=\"File generator\"):\n",
    "    _ = data_gen(max_row,s)"
   ]
  },
  {
   "cell_type": "markdown",
   "metadata": {},
   "source": [
    "# Generate a large fake customers file"
   ]
  },
  {
   "cell_type": "code",
   "execution_count": 15,
   "metadata": {},
   "outputs": [
    {
     "data": {
      "application/vnd.jupyter.widget-view+json": {
       "model_id": "46f6b99c770a4d378fb5a4e6424e5ae2",
       "version_major": 2,
       "version_minor": 0
      },
      "text/plain": [
       "HBox(children=(IntProgress(value=0, description=u'Data generator', max=32768), HTML(value=u'')))"
      ]
     },
     "metadata": {},
     "output_type": "display_data"
    },
    {
     "name": "stdout",
     "output_type": "stream",
     "text": [
      "\n",
      "sanitazing:address - object\n",
      "sanitazing:credit_card_expire - object\n",
      "sanitazing:credit_card_full - object\n",
      "sanitazing:credit_card_number - object\n",
      "sanitazing:credit_card_provider - object\n",
      "sanitazing:credit_card_security_code - object\n",
      "sanitazing:date_of_birth - object\n",
      "sanitazing:first_name - object\n",
      "sanitazing:gender - object\n",
      "sanitazing:job - object\n",
      "sanitazing:last_name - object\n",
      "sanitazing:ssn - object\n",
      "sanitazing:zipcode - object\n"
     ]
    }
   ],
   "source": [
    "_ = data_gen(32768,100)"
   ]
  },
  {
   "cell_type": "code",
   "execution_count": 16,
   "metadata": {},
   "outputs": [
    {
     "name": "stdout",
     "output_type": "stream",
     "text": [
      "dot.txt\t\t\t   fake_customers_21.csv.gz  fake_customers_44.csv.gz\n",
      "fake_customers_00.csv.gz   fake_customers_22.csv.gz  fake_customers_45.csv.gz\n",
      "fake_customers_01.csv.gz   fake_customers_23.csv.gz  fake_customers_46.csv.gz\n",
      "fake_customers_02.csv.gz   fake_customers_24.csv.gz  fake_customers_47.csv.gz\n",
      "fake_customers_03.csv.gz   fake_customers_25.csv.gz  fake_customers_48.csv.gz\n",
      "fake_customers_04.csv.gz   fake_customers_26.csv.gz  fake_customers_49.csv.gz\n",
      "fake_customers_05.csv.gz   fake_customers_27.csv.gz  fake_customers_50.csv.gz\n",
      "fake_customers_06.csv.gz   fake_customers_28.csv.gz  fake_customers_51.csv.gz\n",
      "fake_customers_07.csv.gz   fake_customers_29.csv.gz  fake_customers_52.csv.gz\n",
      "fake_customers_08.csv.gz   fake_customers_30.csv.gz  fake_customers_53.csv.gz\n",
      "fake_customers_09.csv.gz   fake_customers_31.csv.gz  fake_customers_54.csv.gz\n",
      "fake_customers_100.csv.gz  fake_customers_32.csv.gz  fake_customers_55.csv.gz\n",
      "fake_customers_10.csv.gz   fake_customers_33.csv.gz  fake_customers_56.csv.gz\n",
      "fake_customers_11.csv.gz   fake_customers_34.csv.gz  fake_customers_57.csv.gz\n",
      "fake_customers_12.csv.gz   fake_customers_35.csv.gz  fake_customers_58.csv.gz\n",
      "fake_customers_13.csv.gz   fake_customers_36.csv.gz  fake_customers_59.csv.gz\n",
      "fake_customers_14.csv.gz   fake_customers_37.csv.gz  fake_customers_60.csv.gz\n",
      "fake_customers_15.csv.gz   fake_customers_38.csv.gz  fake_customers_61.csv.gz\n",
      "fake_customers_16.csv.gz   fake_customers_39.csv.gz  fake_customers_62.csv.gz\n",
      "fake_customers_17.csv.gz   fake_customers_40.csv.gz  fake_customers_63.csv.gz\n",
      "fake_customers_18.csv.gz   fake_customers_41.csv.gz  somedata_2.txt\n",
      "fake_customers_19.csv.gz   fake_customers_42.csv.gz  somedata.txt\n",
      "fake_customers_20.csv.gz   fake_customers_43.csv.gz\n"
     ]
    }
   ],
   "source": [
    "!ls /media/sf_mnlytics/data"
   ]
  }
 ],
 "metadata": {
  "anaconda-cloud": {},
  "celltoolbar": "Initialisation Cell",
  "hide_input": false,
  "kernelspec": {
   "display_name": "Python [conda env:snake27]",
   "language": "python",
   "name": "conda-env-snake27-py"
  },
  "language_info": {
   "codemirror_mode": {
    "name": "ipython",
    "version": 2
   },
   "file_extension": ".py",
   "mimetype": "text/x-python",
   "name": "python",
   "nbconvert_exporter": "python",
   "pygments_lexer": "ipython2",
   "version": "2.7.15"
  },
  "latex_envs": {
   "LaTeX_envs_menu_present": true,
   "autocomplete": true,
   "bibliofile": "biblio.bib",
   "cite_by": "apalike",
   "current_citInitial": 1,
   "eqLabelWithNumbers": true,
   "eqNumInitial": 1,
   "hotkeys": {
    "equation": "Ctrl-E",
    "itemize": "Ctrl-I"
   },
   "labels_anchors": false,
   "latex_user_defs": false,
   "report_style_numbering": false,
   "user_envs_cfg": false
  },
  "nbTranslate": {
   "displayLangs": [
    "*"
   ],
   "hotkey": "alt-t",
   "langInMainMenu": true,
   "sourceLang": "en",
   "targetLang": "fr",
   "useGoogleTranslate": true
  },
  "notify_time": "5",
  "toc": {
   "nav_menu": {
    "height": "12px",
    "width": "252px"
   },
   "number_sections": true,
   "sideBar": true,
   "skip_h1_title": false,
   "toc_cell": false,
   "toc_position": {
    "height": "1219px",
    "left": "0px",
    "right": "2295px",
    "top": "153px",
    "width": "267px"
   },
   "toc_section_display": "block",
   "toc_window_display": false
  },
  "varInspector": {
   "cols": {
    "lenName": 16,
    "lenType": 16,
    "lenVar": 40
   },
   "kernels_config": {
    "python": {
     "delete_cmd_postfix": "",
     "delete_cmd_prefix": "del ",
     "library": "var_list.py",
     "varRefreshCmd": "print(var_dic_list())"
    },
    "r": {
     "delete_cmd_postfix": ") ",
     "delete_cmd_prefix": "rm(",
     "library": "var_list.r",
     "varRefreshCmd": "cat(var_dic_list()) "
    }
   },
   "types_to_exclude": [
    "module",
    "function",
    "builtin_function_or_method",
    "instance",
    "_Feature"
   ],
   "window_display": false
  }
 },
 "nbformat": 4,
 "nbformat_minor": 2
}
