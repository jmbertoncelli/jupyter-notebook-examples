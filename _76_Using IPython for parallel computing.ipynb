{
 "cells": [
  {
   "cell_type": "markdown",
   "metadata": {},
   "source": [
    "<img tyle=\"float: right;\"  src=\"http://minneanalytics.org/wp/wp-content/uploads/2018/04/BDT18_LP-02-02.jpg\" \\>"
   ]
  },
  {
   "cell_type": "code",
   "execution_count": null,
   "metadata": {
    "ExecuteTime": {
     "end_time": "2018-06-04T03:03:14.764483Z",
     "start_time": "2018-06-04T03:03:14.758159Z"
    }
   },
   "outputs": [],
   "source": [
    "from IPython.core.display import display, HTML\n",
    "from IPython.display import IFrame"
   ]
  },
  {
   "cell_type": "markdown",
   "metadata": {},
   "source": [
    "# Jupyter notebook"
   ]
  },
  {
   "cell_type": "code",
   "execution_count": null,
   "metadata": {
    "ExecuteTime": {
     "end_time": "2018-06-04T03:03:14.942432Z",
     "start_time": "2018-06-04T03:03:14.919300Z"
    },
    "scrolled": true
   },
   "outputs": [],
   "source": [
    "IFrame('https://jupyter.org/index.html', width='100%',height='1024')"
   ]
  },
  {
   "cell_type": "code",
   "execution_count": null,
   "metadata": {
    "ExecuteTime": {
     "end_time": "2018-06-04T03:03:14.968433Z",
     "start_time": "2018-06-04T03:03:14.959768Z"
    },
    "scrolled": true
   },
   "outputs": [],
   "source": [
    "IFrame('https://jupyter.readthedocs.io/en/latest/architecture/how_jupyter_ipython_work.html', width='100%',height='1024')"
   ]
  },
  {
   "cell_type": "markdown",
   "metadata": {},
   "source": [
    "# Using IPython for parallel computing"
   ]
  },
  {
   "cell_type": "markdown",
   "metadata": {},
   "source": [
    "The IPython engine is an extension of the IPython kernel for Jupyter. The engine listens for requests over the network, runs code, and returns results. IPython parallel extends the Jupyter messaging protocol to support native Python object serialization. When multiple engines are started, parallel and distributed computing becomes possible."
   ]
  },
  {
   "cell_type": "code",
   "execution_count": null,
   "metadata": {
    "ExecuteTime": {
     "end_time": "2018-06-04T03:03:15.197909Z",
     "start_time": "2018-06-04T03:03:15.182524Z"
    },
    "scrolled": true
   },
   "outputs": [],
   "source": [
    "IFrame('http://ipyparallel.readthedocs.io/en/latest/index.html', width='100%',height='1024')"
   ]
  },
  {
   "cell_type": "markdown",
   "metadata": {},
   "source": [
    "# Before connecting remember to start the cluster!!!!!!!!!!!!!!!!!!!!!!!!!!!!!\n",
    "- start a terminal\n",
    "- input the command: ipcluster start\n"
   ]
  },
  {
   "cell_type": "markdown",
   "metadata": {},
   "source": [
    "### Connect with the cluster"
   ]
  },
  {
   "cell_type": "code",
   "execution_count": null,
   "metadata": {
    "ExecuteTime": {
     "end_time": "2018-06-04T03:03:15.414898Z",
     "start_time": "2018-06-04T03:03:15.406313Z"
    }
   },
   "outputs": [],
   "source": [
    "import ipyparallel as ipp"
   ]
  },
  {
   "cell_type": "code",
   "execution_count": null,
   "metadata": {
    "ExecuteTime": {
     "end_time": "2018-06-04T03:03:15.573019Z",
     "start_time": "2018-06-04T03:03:15.535667Z"
    }
   },
   "outputs": [],
   "source": [
    "rc = ipp.Client()\n",
    "rc.ids"
   ]
  },
  {
   "cell_type": "code",
   "execution_count": null,
   "metadata": {
    "ExecuteTime": {
     "end_time": "2018-06-04T03:03:15.625556Z",
     "start_time": "2018-06-04T03:03:15.579084Z"
    }
   },
   "outputs": [],
   "source": [
    "rc[:].apply_sync(lambda : \"Hello, World\")"
   ]
  },
  {
   "cell_type": "code",
   "execution_count": null,
   "metadata": {
    "ExecuteTime": {
     "end_time": "2018-06-04T03:03:15.691122Z",
     "start_time": "2018-06-04T03:03:15.630269Z"
    }
   },
   "outputs": [],
   "source": [
    "%px print ('Hello world')"
   ]
  },
  {
   "cell_type": "code",
   "execution_count": null,
   "metadata": {
    "ExecuteTime": {
     "end_time": "2018-06-04T03:03:15.702098Z",
     "start_time": "2018-06-04T03:03:15.695867Z"
    }
   },
   "outputs": [],
   "source": [
    "lview = rc.load_balanced_view()"
   ]
  },
  {
   "cell_type": "code",
   "execution_count": null,
   "metadata": {
    "ExecuteTime": {
     "end_time": "2018-06-04T03:03:15.712043Z",
     "start_time": "2018-06-04T03:03:15.706341Z"
    }
   },
   "outputs": [],
   "source": [
    "lview.block = True"
   ]
  },
  {
   "cell_type": "code",
   "execution_count": null,
   "metadata": {
    "ExecuteTime": {
     "end_time": "2018-06-04T03:03:15.735522Z",
     "start_time": "2018-06-04T03:03:15.718802Z"
    },
    "scrolled": true
   },
   "outputs": [],
   "source": [
    "serial_result = map(lambda x:x**10, range(32))\n",
    "serial_result"
   ]
  },
  {
   "cell_type": "code",
   "execution_count": null,
   "metadata": {
    "ExecuteTime": {
     "end_time": "2018-06-04T03:03:15.978802Z",
     "start_time": "2018-06-04T03:03:15.740624Z"
    },
    "scrolled": true
   },
   "outputs": [],
   "source": [
    "parallel_result = lview.map(lambda x:x**10, range(32))\n",
    "parallel_result"
   ]
  },
  {
   "cell_type": "code",
   "execution_count": null,
   "metadata": {
    "ExecuteTime": {
     "end_time": "2018-06-04T03:03:15.994341Z",
     "start_time": "2018-06-04T03:03:15.984550Z"
    }
   },
   "outputs": [],
   "source": [
    "serial_result==parallel_result"
   ]
  },
  {
   "cell_type": "code",
   "execution_count": null,
   "metadata": {
    "ExecuteTime": {
     "end_time": "2018-06-04T03:03:16.004171Z",
     "start_time": "2018-06-04T03:03:15.998419Z"
    }
   },
   "outputs": [],
   "source": [
    "@lview.parallel()\n",
    "def f(x):\n",
    "    return x**10"
   ]
  },
  {
   "cell_type": "code",
   "execution_count": null,
   "metadata": {
    "ExecuteTime": {
     "end_time": "2018-06-04T03:03:16.191526Z",
     "start_time": "2018-06-04T03:03:16.007371Z"
    },
    "scrolled": true
   },
   "outputs": [],
   "source": [
    "f.map(range(32))    # this is done in parallel"
   ]
  },
  {
   "cell_type": "markdown",
   "metadata": {},
   "source": [
    "# Using IPYPARALLEL to Derive flags from a string"
   ]
  },
  {
   "cell_type": "code",
   "execution_count": null,
   "metadata": {
    "ExecuteTime": {
     "end_time": "2018-06-04T03:03:16.225414Z",
     "start_time": "2018-06-04T03:03:16.212102Z"
    }
   },
   "outputs": [],
   "source": [
    "import pandas as pd\n",
    "import numpy as np\n",
    "from random import shuffle\n",
    "# -----------------------------------\n",
    "pd.set_option('display.max_columns', 512)\n",
    "pd.set_option('display.max_colwidth', 1024)\n",
    "pd.set_option('display.max_rows', 512)\n",
    "pd.set_option('display.width', 1024)\n",
    "pd.set_option('display.max_info_rows', 512)\n",
    "pd.set_option('display.expand_frame_repr', True)\n",
    "pd.set_option('mode.chained_assignment','warn')\n",
    "pd.set_option('precision', 2)\n",
    "pd.set_option('float_format', '{:6.2f}'.format)\n",
    "pd.set_option('display.notebook_repr_html', True)"
   ]
  },
  {
   "cell_type": "markdown",
   "metadata": {},
   "source": [
    "## Generate random codes"
   ]
  },
  {
   "cell_type": "code",
   "execution_count": null,
   "metadata": {
    "ExecuteTime": {
     "end_time": "2018-06-04T03:03:17.400023Z",
     "start_time": "2018-06-04T03:03:16.375066Z"
    }
   },
   "outputs": [],
   "source": [
    "import tqdm\n",
    "from tqdm import *\n",
    "import string\n",
    "import random\n",
    "\n",
    "codes = []\n",
    "\n",
    "for r in tqdm_notebook(range(100000)):\n",
    "    col = ''\n",
    "    for l in range(10):\n",
    "        col += random.choice(string.ascii_uppercase)\n",
    "    codes.append(col) \n",
    "    \n",
    "d = {'code':codes}    "
   ]
  },
  {
   "cell_type": "code",
   "execution_count": null,
   "metadata": {
    "ExecuteTime": {
     "end_time": "2018-06-04T03:03:17.418162Z",
     "start_time": "2018-06-04T03:03:17.405985Z"
    },
    "run_control": {
     "marked": false
    }
   },
   "outputs": [],
   "source": [
    "df = pd.DataFrame(data=d)"
   ]
  },
  {
   "cell_type": "code",
   "execution_count": null,
   "metadata": {
    "ExecuteTime": {
     "end_time": "2018-06-04T03:03:17.433422Z",
     "start_time": "2018-06-04T03:03:17.423473Z"
    }
   },
   "outputs": [],
   "source": [
    "df.shape"
   ]
  },
  {
   "cell_type": "code",
   "execution_count": null,
   "metadata": {
    "ExecuteTime": {
     "end_time": "2018-06-04T03:03:17.462127Z",
     "start_time": "2018-06-04T03:03:17.438694Z"
    },
    "scrolled": true
   },
   "outputs": [],
   "source": [
    "df.head(5)"
   ]
  },
  {
   "cell_type": "markdown",
   "metadata": {},
   "source": [
    "### Export code from dataframe to a list of tuples"
   ]
  },
  {
   "cell_type": "code",
   "execution_count": null,
   "metadata": {
    "ExecuteTime": {
     "end_time": "2018-06-04T03:03:17.521651Z",
     "start_time": "2018-06-04T03:03:17.468318Z"
    }
   },
   "outputs": [],
   "source": [
    "codes = df.to_records().tolist()"
   ]
  },
  {
   "cell_type": "code",
   "execution_count": null,
   "metadata": {
    "ExecuteTime": {
     "end_time": "2018-06-04T03:03:17.534873Z",
     "start_time": "2018-06-04T03:03:17.525033Z"
    }
   },
   "outputs": [],
   "source": [
    "len(codes)"
   ]
  },
  {
   "cell_type": "markdown",
   "metadata": {},
   "source": [
    "### Shuffle the python list"
   ]
  },
  {
   "cell_type": "code",
   "execution_count": null,
   "metadata": {
    "ExecuteTime": {
     "end_time": "2018-06-04T03:03:17.652487Z",
     "start_time": "2018-06-04T03:03:17.541258Z"
    }
   },
   "outputs": [],
   "source": [
    "shuffle(codes)\n",
    "codes"
   ]
  },
  {
   "cell_type": "markdown",
   "metadata": {},
   "source": [
    "### Connect to the python Engine(s)"
   ]
  },
  {
   "cell_type": "code",
   "execution_count": null,
   "metadata": {
    "ExecuteTime": {
     "end_time": "2018-06-04T03:03:17.680508Z",
     "start_time": "2018-06-04T03:03:17.658698Z"
    }
   },
   "outputs": [],
   "source": [
    "c = ipp.Client(timeout=30.0)\n",
    "dv = c[:]\n",
    "dv.block = True\n",
    "c.ids"
   ]
  },
  {
   "cell_type": "markdown",
   "metadata": {},
   "source": [
    "### import python libraries to each Engines"
   ]
  },
  {
   "cell_type": "code",
   "execution_count": null,
   "metadata": {
    "ExecuteTime": {
     "end_time": "2018-06-04T03:03:18.131710Z",
     "start_time": "2018-06-04T03:03:17.686039Z"
    }
   },
   "outputs": [],
   "source": [
    "with dv.sync_imports():  # your 'view' variable \n",
    "    import pandas as pd\n",
    "    import os"
   ]
  },
  {
   "cell_type": "markdown",
   "metadata": {},
   "source": [
    "### Ping python Engine(s)"
   ]
  },
  {
   "cell_type": "code",
   "execution_count": null,
   "metadata": {
    "ExecuteTime": {
     "end_time": "2018-06-04T03:03:18.213690Z",
     "start_time": "2018-06-04T03:03:18.139580Z"
    },
    "scrolled": true
   },
   "outputs": [],
   "source": [
    "%px print('Ready!' + str(os.getpid()))"
   ]
  },
  {
   "cell_type": "markdown",
   "metadata": {},
   "source": [
    "### Define processor python function"
   ]
  },
  {
   "cell_type": "code",
   "execution_count": null,
   "metadata": {
    "ExecuteTime": {
     "end_time": "2018-06-04T03:03:18.228725Z",
     "start_time": "2018-06-04T03:03:18.218937Z"
    }
   },
   "outputs": [],
   "source": [
    "def processor(code):\n",
    "    k = code[0]\n",
    "    v = code[1]\n",
    "    # ------------------------------------- #    \n",
    "    # instantiate a pandas series object    #\n",
    "    # ------------------------------------- #\n",
    "    s0 = pandas.Series(name=k)\n",
    "\n",
    "    # ------------------------------------- #    \n",
    "    # for each letter create a flag         #\n",
    "    # ------------------------------------- #\n",
    "    for c in v:\n",
    "        s0['code_' + c] = 1\n",
    "\n",
    "    return s0"
   ]
  },
  {
   "cell_type": "markdown",
   "metadata": {},
   "source": [
    "### Push the processor python function to each engine"
   ]
  },
  {
   "cell_type": "code",
   "execution_count": null,
   "metadata": {
    "ExecuteTime": {
     "end_time": "2018-06-04T03:03:18.299281Z",
     "start_time": "2018-06-04T03:03:18.235418Z"
    }
   },
   "outputs": [],
   "source": [
    "dv.push(dict(prc = processor))"
   ]
  },
  {
   "cell_type": "markdown",
   "metadata": {},
   "source": [
    "### Partition the python list based on # Engine"
   ]
  },
  {
   "cell_type": "code",
   "execution_count": null,
   "metadata": {
    "ExecuteTime": {
     "end_time": "2018-06-04T03:03:18.539954Z",
     "start_time": "2018-06-04T03:03:18.309619Z"
    }
   },
   "outputs": [],
   "source": [
    "dv.scatter('codes',codes)"
   ]
  },
  {
   "cell_type": "markdown",
   "metadata": {},
   "source": [
    "### Run python list expression in each Engine"
   ]
  },
  {
   "cell_type": "code",
   "execution_count": null,
   "metadata": {
    "ExecuteTime": {
     "end_time": "2018-06-04T03:05:56.994304Z",
     "start_time": "2018-06-04T03:03:18.544081Z"
    },
    "run_control": {
     "marked": false
    }
   },
   "outputs": [],
   "source": [
    "%%px --group-outputs=engine\n",
    "print(\"Engine:{0} busy processing {1} codes\".format(os.getpid(),len(codes)))\n",
    "engine_result = [prc(i) for i in codes]\n",
    "print(\"Engine:{0} ready\".format(os.getpid()))"
   ]
  },
  {
   "cell_type": "markdown",
   "metadata": {},
   "source": [
    "### Gather the result returned by each Engine"
   ]
  },
  {
   "cell_type": "code",
   "execution_count": null,
   "metadata": {
    "ExecuteTime": {
     "end_time": "2018-06-04T03:06:21.704709Z",
     "start_time": "2018-06-04T03:05:57.001586Z"
    }
   },
   "outputs": [],
   "source": [
    "results = dv.gather('engine_result')"
   ]
  },
  {
   "cell_type": "markdown",
   "metadata": {},
   "source": [
    "### Load results to the flags dataframe"
   ]
  },
  {
   "cell_type": "code",
   "execution_count": null,
   "metadata": {
    "ExecuteTime": {
     "end_time": "2018-06-04T03:06:42.622110Z",
     "start_time": "2018-06-04T03:06:21.709159Z"
    },
    "scrolled": true
   },
   "outputs": [],
   "source": [
    "df_flags = pd.DataFrame()\n",
    "df_flags = df_flags.append(results)\n",
    "df_flags.fillna(0, inplace=True)\n",
    "df_flags = df_flags.astype(np.int64)\n",
    "df_flags = df_flags[df_flags.columns.sort_values().tolist()]\n",
    "df_flags.head(10)"
   ]
  },
  {
   "cell_type": "markdown",
   "metadata": {},
   "source": [
    "### Join the flags dataframe with the source dataframe"
   ]
  },
  {
   "cell_type": "code",
   "execution_count": null,
   "metadata": {
    "ExecuteTime": {
     "end_time": "2018-06-04T03:06:43.381160Z",
     "start_time": "2018-06-04T03:06:42.639407Z"
    }
   },
   "outputs": [],
   "source": [
    "df_final = df.join(df_flags,how='inner')"
   ]
  },
  {
   "cell_type": "markdown",
   "metadata": {},
   "source": [
    "# Data is ready!!!"
   ]
  },
  {
   "cell_type": "code",
   "execution_count": null,
   "metadata": {
    "ExecuteTime": {
     "end_time": "2018-06-04T03:06:43.538868Z",
     "start_time": "2018-06-04T03:06:43.399931Z"
    }
   },
   "outputs": [],
   "source": [
    "df_final.head(10)"
   ]
  },
  {
   "cell_type": "code",
   "execution_count": null,
   "metadata": {
    "ExecuteTime": {
     "end_time": "2018-06-04T03:06:43.569451Z",
     "start_time": "2018-06-04T03:06:43.544791Z"
    }
   },
   "outputs": [],
   "source": [
    "len(df_final)"
   ]
  },
  {
   "cell_type": "markdown",
   "metadata": {},
   "source": [
    "# Questions?"
   ]
  }
 ],
 "metadata": {
  "anaconda-cloud": {},
  "celltoolbar": "Tags",
  "gist": {
   "data": {
    "description": "BuzzFeed/Using IPython for parallel computing.ipynb",
    "public": false
   },
   "id": ""
  },
  "hide_input": false,
  "kernelspec": {
   "display_name": "Python [conda env:snake27]",
   "language": "python",
   "name": "conda-env-snake27-py"
  },
  "language_info": {
   "codemirror_mode": {
    "name": "ipython",
    "version": 2
   },
   "file_extension": ".py",
   "mimetype": "text/x-python",
   "name": "python",
   "nbconvert_exporter": "python",
   "pygments_lexer": "ipython2",
   "version": "2.7.15"
  },
  "latex_envs": {
   "LaTeX_envs_menu_present": true,
   "autocomplete": true,
   "bibliofile": "biblio.bib",
   "cite_by": "apalike",
   "current_citInitial": 1,
   "eqLabelWithNumbers": true,
   "eqNumInitial": 1,
   "hotkeys": {
    "equation": "Ctrl-E",
    "itemize": "Ctrl-I"
   },
   "labels_anchors": false,
   "latex_user_defs": false,
   "report_style_numbering": false,
   "user_envs_cfg": false
  },
  "nbTranslate": {
   "displayLangs": [
    "*"
   ],
   "hotkey": "alt-t",
   "langInMainMenu": true,
   "sourceLang": "en",
   "targetLang": "fr",
   "useGoogleTranslate": true
  },
  "toc": {
   "base_numbering": 1,
   "nav_menu": {
    "height": "425px",
    "width": "252px"
   },
   "number_sections": true,
   "sideBar": true,
   "skip_h1_title": false,
   "title_cell": "Table of Contents",
   "title_sidebar": "Contents",
   "toc_cell": false,
   "toc_position": {
    "height": "1256px",
    "left": "0px",
    "right": "1789.2px",
    "top": "91px",
    "width": "265px"
   },
   "toc_section_display": "block",
   "toc_window_display": true
  },
  "varInspector": {
   "cols": {
    "lenName": 16,
    "lenType": 16,
    "lenVar": 40
   },
   "kernels_config": {
    "python": {
     "delete_cmd_postfix": "",
     "delete_cmd_prefix": "del ",
     "library": "var_list.py",
     "varRefreshCmd": "print(var_dic_list())"
    },
    "r": {
     "delete_cmd_postfix": ") ",
     "delete_cmd_prefix": "rm(",
     "library": "var_list.r",
     "varRefreshCmd": "cat(var_dic_list()) "
    }
   },
   "position": {
    "height": "436px",
    "left": "814.867px",
    "right": "20px",
    "top": "199px",
    "width": "582px"
   },
   "types_to_exclude": [
    "module",
    "function",
    "builtin_function_or_method",
    "instance",
    "_Feature"
   ],
   "window_display": false
  }
 },
 "nbformat": 4,
 "nbformat_minor": 2
}
